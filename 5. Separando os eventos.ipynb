{
 "cells": [
  {
   "cell_type": "code",
   "execution_count": 1,
   "metadata": {},
   "outputs": [],
   "source": [
    "import numpy as np\n",
    "import pandas as pd\n",
    "import matplotlib.pyplot as plt\n",
    "from pandas import Timedelta, Timestamp\n",
    "from collections import namedtuple\n",
    "\n",
    "from IPython.core.debugger import set_trace"
   ]
  },
  {
   "cell_type": "code",
   "execution_count": 2,
   "metadata": {},
   "outputs": [],
   "source": [
    "df_estacao = pd.read_csv(\"DATA/dados_estacoes_5min.csv\",\n",
    "        parse_dates=[\"DATE\"],\n",
    "        index_col=[\"DATE\"])\n",
    "\n",
    "df_radar = pd.read_csv(\"DATA/dados_radar_semHorarioVerao.csv\",\n",
    "                      parse_dates=['DATE'],\n",
    "                      index_col=[\"DATE\"])\n",
    "\n",
    "df_estacao.sort_index(inplace=True)\n",
    "df_radar.sort_index(inplace=True)"
   ]
  },
  {
   "cell_type": "code",
   "execution_count": 14,
   "metadata": {},
   "outputs": [
    {
     "name": "stdout",
     "output_type": "stream",
     "text": [
      "1690\n"
     ]
    }
   ],
   "source": [
    "df_est = df_estacao[df_estacao > 0].dropna(how=\"all\",axis=0).dropna(how=\"all\",axis=1)\n",
    "indices = df_est.index\n",
    "eventos = []\n",
    "\n",
    "evento = []\n",
    "last_indice = indices[0]\n",
    "evento.append(last_indice)\n",
    "for indice in indices[1:]:\n",
    "    evento.append(indice)\n",
    "    # Eventos com um gap maior que 10 min são eventos distintos\n",
    "    if indice - last_indice > Timedelta(\"10min\"):\n",
    "        # eventos maiores que 10 min\n",
    "        if len(evento) > 1:\n",
    "            eventos.append(evento)\n",
    "        evento = []\n",
    "    last_indice = indice\n",
    "print(len(eventos))\n",
    "    "
   ]
  },
  {
   "cell_type": "code",
   "execution_count": 15,
   "metadata": {},
   "outputs": [
    {
     "data": {
      "text/plain": [
       "[Timestamp('2016-01-01 15:50:00'),\n",
       " Timestamp('2016-01-01 16:00:00'),\n",
       " Timestamp('2016-01-01 16:10:00'),\n",
       " Timestamp('2016-01-01 16:20:00'),\n",
       " Timestamp('2016-01-01 16:30:00'),\n",
       " Timestamp('2016-01-01 16:40:00'),\n",
       " Timestamp('2016-01-01 16:50:00'),\n",
       " Timestamp('2016-01-01 19:00:00')]"
      ]
     },
     "execution_count": 15,
     "metadata": {},
     "output_type": "execute_result"
    }
   ],
   "source": [
    "# Evento aleátorio para tests\n",
    "evento = eventos[3]\n",
    "evento"
   ]
  },
  {
   "cell_type": "code",
   "execution_count": 16,
   "metadata": {},
   "outputs": [
    {
     "data": {
      "text/html": [
       "<div>\n",
       "<style scoped>\n",
       "    .dataframe tbody tr th:only-of-type {\n",
       "        vertical-align: middle;\n",
       "    }\n",
       "\n",
       "    .dataframe tbody tr th {\n",
       "        vertical-align: top;\n",
       "    }\n",
       "\n",
       "    .dataframe thead th {\n",
       "        text-align: right;\n",
       "    }\n",
       "</style>\n",
       "<table border=\"1\" class=\"dataframe\">\n",
       "  <thead>\n",
       "    <tr style=\"text-align: right;\">\n",
       "      <th></th>\n",
       "      <th>MB_GAM1</th>\n",
       "      <th>MB_PRO1</th>\n",
       "      <th>MB_PRO2</th>\n",
       "      <th>MB_SEG1</th>\n",
       "    </tr>\n",
       "    <tr>\n",
       "      <th>DATE</th>\n",
       "      <th></th>\n",
       "      <th></th>\n",
       "      <th></th>\n",
       "      <th></th>\n",
       "    </tr>\n",
       "  </thead>\n",
       "  <tbody>\n",
       "    <tr>\n",
       "      <th>2016-01-01 15:50:00</th>\n",
       "      <td>NaN</td>\n",
       "      <td>NaN</td>\n",
       "      <td>NaN</td>\n",
       "      <td>15.50</td>\n",
       "    </tr>\n",
       "    <tr>\n",
       "      <th>2016-01-01 16:00:00</th>\n",
       "      <td>NaN</td>\n",
       "      <td>3.00</td>\n",
       "      <td>NaN</td>\n",
       "      <td>2.50</td>\n",
       "    </tr>\n",
       "    <tr>\n",
       "      <th>2016-01-01 16:10:00</th>\n",
       "      <td>NaN</td>\n",
       "      <td>9.75</td>\n",
       "      <td>6.75</td>\n",
       "      <td>NaN</td>\n",
       "    </tr>\n",
       "    <tr>\n",
       "      <th>2016-01-01 16:20:00</th>\n",
       "      <td>NaN</td>\n",
       "      <td>5.50</td>\n",
       "      <td>5.75</td>\n",
       "      <td>NaN</td>\n",
       "    </tr>\n",
       "    <tr>\n",
       "      <th>2016-01-01 16:30:00</th>\n",
       "      <td>NaN</td>\n",
       "      <td>1.00</td>\n",
       "      <td>4.75</td>\n",
       "      <td>NaN</td>\n",
       "    </tr>\n",
       "    <tr>\n",
       "      <th>2016-01-01 16:40:00</th>\n",
       "      <td>0.25</td>\n",
       "      <td>NaN</td>\n",
       "      <td>NaN</td>\n",
       "      <td>0.25</td>\n",
       "    </tr>\n",
       "    <tr>\n",
       "      <th>2016-01-01 16:50:00</th>\n",
       "      <td>0.50</td>\n",
       "      <td>NaN</td>\n",
       "      <td>NaN</td>\n",
       "      <td>NaN</td>\n",
       "    </tr>\n",
       "    <tr>\n",
       "      <th>2016-01-01 19:00:00</th>\n",
       "      <td>NaN</td>\n",
       "      <td>1.75</td>\n",
       "      <td>NaN</td>\n",
       "      <td>NaN</td>\n",
       "    </tr>\n",
       "  </tbody>\n",
       "</table>\n",
       "</div>"
      ],
      "text/plain": [
       "                     MB_GAM1  MB_PRO1  MB_PRO2  MB_SEG1\n",
       "DATE                                                   \n",
       "2016-01-01 15:50:00      NaN      NaN      NaN    15.50\n",
       "2016-01-01 16:00:00      NaN     3.00      NaN     2.50\n",
       "2016-01-01 16:10:00      NaN     9.75     6.75      NaN\n",
       "2016-01-01 16:20:00      NaN     5.50     5.75      NaN\n",
       "2016-01-01 16:30:00      NaN     1.00     4.75      NaN\n",
       "2016-01-01 16:40:00     0.25      NaN      NaN     0.25\n",
       "2016-01-01 16:50:00     0.50      NaN      NaN      NaN\n",
       "2016-01-01 19:00:00      NaN     1.75      NaN      NaN"
      ]
     },
     "execution_count": 16,
     "metadata": {},
     "output_type": "execute_result"
    }
   ],
   "source": [
    "df_est.loc[evento].dropna(axis=1, how=\"all\")"
   ]
  },
  {
   "cell_type": "code",
   "execution_count": 17,
   "metadata": {
    "scrolled": true
   },
   "outputs": [
    {
     "data": {
      "text/plain": [
       "DATE\n",
       "2016-01-01 16:00:00    3.00\n",
       "2016-01-01 16:10:00    9.75\n",
       "2016-01-01 16:20:00    5.50\n",
       "2016-01-01 16:30:00    1.00\n",
       "2016-01-01 19:00:00    1.75\n",
       "Name: MB_PRO1, dtype: float64"
      ]
     },
     "execution_count": 17,
     "metadata": {},
     "output_type": "execute_result"
    }
   ],
   "source": [
    "df_evento = df_est.loc[evento].dropna(axis=1, how=\"all\")\n",
    "evento_estacao = df_evento.MB_PRO1.dropna()\n",
    "evento_estacao"
   ]
  },
  {
   "cell_type": "code",
   "execution_count": 18,
   "metadata": {},
   "outputs": [
    {
     "data": {
      "text/plain": [
       "DatetimeIndex(['2016-01-01 16:00:00', '2016-01-01 16:10:00',\n",
       "               '2016-01-01 16:20:00', '2016-01-01 16:30:00',\n",
       "               '2016-01-01 19:00:00'],\n",
       "              dtype='datetime64[ns]', name='DATE', freq=None)"
      ]
     },
     "execution_count": 18,
     "metadata": {},
     "output_type": "execute_result"
    }
   ],
   "source": [
    "evento_estacao.index"
   ]
  },
  {
   "cell_type": "markdown",
   "metadata": {},
   "source": [
    "É necessario ainda separar os eventos por estação, como é possivel ver acima os eventos começam em horarios distintos por estaçoes.\n"
   ]
  },
  {
   "cell_type": "code",
   "execution_count": 19,
   "metadata": {},
   "outputs": [
    {
     "name": "stderr",
     "output_type": "stream",
     "text": [
      "/home/rossuna/anaconda3/envs/ic/lib/python3.6/site-packages/ipykernel_launcher.py:21: FutureWarning: \n",
      "Passing list-likes to .loc or [] with any missing label will raise\n",
      "KeyError in the future, you can use .reindex() as an alternative.\n",
      "\n",
      "See the documentation here:\n",
      "https://pandas.pydata.org/pandas-docs/stable/indexing.html#deprecate-loc-reindex-listlike\n"
     ]
    },
    {
     "name": "stdout",
     "output_type": "stream",
     "text": [
      "1690\n"
     ]
    }
   ],
   "source": [
    "df = pd.DataFrame(columns=[\"start\", \"station\",\"duration\",\"Pluviometro\",\"RADAR\"])\n",
    "stations = df_est.columns\n",
    "for station in stations:\n",
    "    df_station = df_est[station]\n",
    "    df_station_nonull = df_station[df_station > 0].dropna()\n",
    "    indices = df_station_nonull.index\n",
    "    dict_evento = {}\n",
    "    evento = []\n",
    "    last_indice = indices[0]\n",
    "    evento.append(last_indice)\n",
    "    for indice in indices[1:]:\n",
    "        # Eventos com um gap maior que 10 min são eventos distintos\n",
    "        if indice - last_indice > Timedelta(\"10min\"):\n",
    "            # eventos maiores que 10 min\n",
    "            if len(evento) > 1:\n",
    "                dict_evento[\"start\"] = evento[0]\n",
    "                dict_evento[\"station\"] = station\n",
    "                dict_evento[\"duration\"] = evento[-1] - evento[0]\n",
    "                dict_evento[\"Pluviometro\"] = df_station.loc[evento].sum()\n",
    "                try:\n",
    "                    dict_evento[\"RADAR\"] = df_radar[station].loc[evento].sum()\n",
    "                except KeyError:\n",
    "                    dict_evento[\"RADAR\"] = np.nan\n",
    "                \n",
    "                df = df.append(dict_evento, ignore_index=True)\n",
    "            evento = []\n",
    "        else:\n",
    "            evento.append(indice)\n",
    "        last_indice = indice\n",
    "\n",
    "    "
   ]
  },
  {
   "cell_type": "code",
   "execution_count": 21,
   "metadata": {},
   "outputs": [
    {
     "data": {
      "text/html": [
       "<div>\n",
       "<style scoped>\n",
       "    .dataframe tbody tr th:only-of-type {\n",
       "        vertical-align: middle;\n",
       "    }\n",
       "\n",
       "    .dataframe tbody tr th {\n",
       "        vertical-align: top;\n",
       "    }\n",
       "\n",
       "    .dataframe thead th {\n",
       "        text-align: right;\n",
       "    }\n",
       "</style>\n",
       "<table border=\"1\" class=\"dataframe\">\n",
       "  <thead>\n",
       "    <tr style=\"text-align: right;\">\n",
       "      <th></th>\n",
       "      <th>start</th>\n",
       "      <th>station</th>\n",
       "      <th>duration</th>\n",
       "      <th>Pluviometro</th>\n",
       "      <th>RADAR</th>\n",
       "    </tr>\n",
       "  </thead>\n",
       "  <tbody>\n",
       "    <tr>\n",
       "      <th>0</th>\n",
       "      <td>2016-10-14 08:20:00</td>\n",
       "      <td>MB_ANHA1</td>\n",
       "      <td>00:30:00</td>\n",
       "      <td>3.00</td>\n",
       "      <td>1.505884</td>\n",
       "    </tr>\n",
       "    <tr>\n",
       "      <th>1</th>\n",
       "      <td>2016-10-14 09:20:00</td>\n",
       "      <td>MB_ANHA1</td>\n",
       "      <td>01:20:00</td>\n",
       "      <td>4.25</td>\n",
       "      <td>2.097585</td>\n",
       "    </tr>\n",
       "    <tr>\n",
       "      <th>2</th>\n",
       "      <td>2016-10-14 11:10:00</td>\n",
       "      <td>MB_ANHA1</td>\n",
       "      <td>00:10:00</td>\n",
       "      <td>1.50</td>\n",
       "      <td>NaN</td>\n",
       "    </tr>\n",
       "    <tr>\n",
       "      <th>3</th>\n",
       "      <td>2016-10-20 16:10:00</td>\n",
       "      <td>MB_ANHA1</td>\n",
       "      <td>00:30:00</td>\n",
       "      <td>9.75</td>\n",
       "      <td>0.880495</td>\n",
       "    </tr>\n",
       "    <tr>\n",
       "      <th>4</th>\n",
       "      <td>2016-10-20 19:10:00</td>\n",
       "      <td>MB_ANHA1</td>\n",
       "      <td>01:30:00</td>\n",
       "      <td>8.00</td>\n",
       "      <td>2.602351</td>\n",
       "    </tr>\n",
       "  </tbody>\n",
       "</table>\n",
       "</div>"
      ],
      "text/plain": [
       "                start   station duration  Pluviometro     RADAR\n",
       "0 2016-10-14 08:20:00  MB_ANHA1 00:30:00         3.00  1.505884\n",
       "1 2016-10-14 09:20:00  MB_ANHA1 01:20:00         4.25  2.097585\n",
       "2 2016-10-14 11:10:00  MB_ANHA1 00:10:00         1.50       NaN\n",
       "3 2016-10-20 16:10:00  MB_ANHA1 00:30:00         9.75  0.880495\n",
       "4 2016-10-20 19:10:00  MB_ANHA1 01:30:00         8.00  2.602351"
      ]
     },
     "execution_count": 21,
     "metadata": {},
     "output_type": "execute_result"
    }
   ],
   "source": [
    "df.head()"
   ]
  },
  {
   "cell_type": "code",
   "execution_count": 25,
   "metadata": {},
   "outputs": [],
   "source": [
    "df[\"ERROR\"] = (df.Pluviometro - df.RADAR)"
   ]
  },
  {
   "cell_type": "code",
   "execution_count": 26,
   "metadata": {},
   "outputs": [
    {
     "data": {
      "text/html": [
       "<div>\n",
       "<style scoped>\n",
       "    .dataframe tbody tr th:only-of-type {\n",
       "        vertical-align: middle;\n",
       "    }\n",
       "\n",
       "    .dataframe tbody tr th {\n",
       "        vertical-align: top;\n",
       "    }\n",
       "\n",
       "    .dataframe thead th {\n",
       "        text-align: right;\n",
       "    }\n",
       "</style>\n",
       "<table border=\"1\" class=\"dataframe\">\n",
       "  <thead>\n",
       "    <tr style=\"text-align: right;\">\n",
       "      <th></th>\n",
       "      <th>start</th>\n",
       "      <th>station</th>\n",
       "      <th>duration</th>\n",
       "      <th>Pluviometro</th>\n",
       "      <th>RADAR</th>\n",
       "      <th>ERROR</th>\n",
       "    </tr>\n",
       "  </thead>\n",
       "  <tbody>\n",
       "    <tr>\n",
       "      <th>0</th>\n",
       "      <td>2016-10-14 08:20:00</td>\n",
       "      <td>MB_ANHA1</td>\n",
       "      <td>00:30:00</td>\n",
       "      <td>3.00</td>\n",
       "      <td>1.505884</td>\n",
       "      <td>1.494116</td>\n",
       "    </tr>\n",
       "    <tr>\n",
       "      <th>1</th>\n",
       "      <td>2016-10-14 09:20:00</td>\n",
       "      <td>MB_ANHA1</td>\n",
       "      <td>01:20:00</td>\n",
       "      <td>4.25</td>\n",
       "      <td>2.097585</td>\n",
       "      <td>2.152415</td>\n",
       "    </tr>\n",
       "    <tr>\n",
       "      <th>2</th>\n",
       "      <td>2016-10-14 11:10:00</td>\n",
       "      <td>MB_ANHA1</td>\n",
       "      <td>00:10:00</td>\n",
       "      <td>1.50</td>\n",
       "      <td>NaN</td>\n",
       "      <td>NaN</td>\n",
       "    </tr>\n",
       "    <tr>\n",
       "      <th>3</th>\n",
       "      <td>2016-10-20 16:10:00</td>\n",
       "      <td>MB_ANHA1</td>\n",
       "      <td>00:30:00</td>\n",
       "      <td>9.75</td>\n",
       "      <td>0.880495</td>\n",
       "      <td>8.869505</td>\n",
       "    </tr>\n",
       "    <tr>\n",
       "      <th>4</th>\n",
       "      <td>2016-10-20 19:10:00</td>\n",
       "      <td>MB_ANHA1</td>\n",
       "      <td>01:30:00</td>\n",
       "      <td>8.00</td>\n",
       "      <td>2.602351</td>\n",
       "      <td>5.397649</td>\n",
       "    </tr>\n",
       "  </tbody>\n",
       "</table>\n",
       "</div>"
      ],
      "text/plain": [
       "                start   station duration  Pluviometro     RADAR     ERROR\n",
       "0 2016-10-14 08:20:00  MB_ANHA1 00:30:00         3.00  1.505884  1.494116\n",
       "1 2016-10-14 09:20:00  MB_ANHA1 01:20:00         4.25  2.097585  2.152415\n",
       "2 2016-10-14 11:10:00  MB_ANHA1 00:10:00         1.50       NaN       NaN\n",
       "3 2016-10-20 16:10:00  MB_ANHA1 00:30:00         9.75  0.880495  8.869505\n",
       "4 2016-10-20 19:10:00  MB_ANHA1 01:30:00         8.00  2.602351  5.397649"
      ]
     },
     "execution_count": 26,
     "metadata": {},
     "output_type": "execute_result"
    }
   ],
   "source": [
    "df.head()"
   ]
  },
  {
   "cell_type": "code",
   "execution_count": 27,
   "metadata": {},
   "outputs": [
    {
     "data": {
      "text/plain": [
       "count    4410.000000\n",
       "mean        5.643678\n",
       "std       137.681463\n",
       "min       -53.774293\n",
       "25%         0.125000\n",
       "50%         0.825369\n",
       "75%         3.006450\n",
       "max      8992.978052\n",
       "Name: ERROR, dtype: float64"
      ]
     },
     "execution_count": 27,
     "metadata": {},
     "output_type": "execute_result"
    }
   ],
   "source": [
    "df.ERROR.describe()"
   ]
  },
  {
   "cell_type": "code",
   "execution_count": null,
   "metadata": {},
   "outputs": [],
   "source": [
    "df.to_csv(\"DATA/eventos.csv\")"
   ]
  }
 ],
 "metadata": {
  "kernelspec": {
   "display_name": "Python [conda env:ic]",
   "language": "python",
   "name": "conda-env-ic-py"
  },
  "language_info": {
   "codemirror_mode": {
    "name": "ipython",
    "version": 3
   },
   "file_extension": ".py",
   "mimetype": "text/x-python",
   "name": "python",
   "nbconvert_exporter": "python",
   "pygments_lexer": "ipython3",
   "version": "3.6.5"
  }
 },
 "nbformat": 4,
 "nbformat_minor": 2
}
