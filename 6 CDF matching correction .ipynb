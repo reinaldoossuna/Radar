{
 "cells": [
  {
   "cell_type": "code",
   "execution_count": 1,
   "metadata": {},
   "outputs": [],
   "source": [
    "import numpy as np\n",
    "import pandas as pd\n",
    "import matplotlib.pyplot as plt\n",
    "from scipy import stats\n",
    "from scipy.interpolate import UnivariateSpline\n",
    "from scipy.interpolate import InterpolatedUnivariateSpline\n",
    "\n",
    "plt.style.use(\"bmh\")\n",
    "from IPython.core.debugger import set_trace"
   ]
  },
  {
   "cell_type": "code",
   "execution_count": 2,
   "metadata": {},
   "outputs": [],
   "source": [
    "df = pd.read_csv(\"DATA/eventos.csv\",parse_dates=[\"start\",\"duration\"])\n",
    "\n",
    "df.dropna(how=\"any\", axis=0,inplace=True)"
   ]
  },
  {
   "cell_type": "code",
   "execution_count": 3,
   "metadata": {},
   "outputs": [],
   "source": [
    "df = df[df.RADAR > 0]"
   ]
  },
  {
   "cell_type": "code",
   "execution_count": 4,
   "metadata": {},
   "outputs": [],
   "source": [
    "df.duration = df.duration.apply(pd.to_timedelta)"
   ]
  },
  {
   "cell_type": "code",
   "execution_count": 5,
   "metadata": {},
   "outputs": [
    {
     "data": {
      "text/html": [
       "<div>\n",
       "<style scoped>\n",
       "    .dataframe tbody tr th:only-of-type {\n",
       "        vertical-align: middle;\n",
       "    }\n",
       "\n",
       "    .dataframe tbody tr th {\n",
       "        vertical-align: top;\n",
       "    }\n",
       "\n",
       "    .dataframe thead th {\n",
       "        text-align: right;\n",
       "    }\n",
       "</style>\n",
       "<table border=\"1\" class=\"dataframe\">\n",
       "  <thead>\n",
       "    <tr style=\"text-align: right;\">\n",
       "      <th></th>\n",
       "      <th>start</th>\n",
       "      <th>station</th>\n",
       "      <th>duration</th>\n",
       "      <th>Pluviometro</th>\n",
       "      <th>RADAR</th>\n",
       "      <th>ERROR</th>\n",
       "    </tr>\n",
       "  </thead>\n",
       "  <tbody>\n",
       "    <tr>\n",
       "      <th>1</th>\n",
       "      <td>2016-10-13 08:30:00</td>\n",
       "      <td>MB_ANHA1</td>\n",
       "      <td>00:10:00</td>\n",
       "      <td>0.25</td>\n",
       "      <td>0.214636</td>\n",
       "      <td>0.035364</td>\n",
       "    </tr>\n",
       "    <tr>\n",
       "      <th>2</th>\n",
       "      <td>2016-10-14 07:20:00</td>\n",
       "      <td>MB_ANHA1</td>\n",
       "      <td>00:10:00</td>\n",
       "      <td>0.25</td>\n",
       "      <td>0.594438</td>\n",
       "      <td>-0.344438</td>\n",
       "    </tr>\n",
       "    <tr>\n",
       "      <th>3</th>\n",
       "      <td>2016-10-14 08:10:00</td>\n",
       "      <td>MB_ANHA1</td>\n",
       "      <td>00:50:00</td>\n",
       "      <td>3.25</td>\n",
       "      <td>1.569860</td>\n",
       "      <td>1.680140</td>\n",
       "    </tr>\n",
       "    <tr>\n",
       "      <th>4</th>\n",
       "      <td>2016-10-14 09:10:00</td>\n",
       "      <td>MB_ANHA1</td>\n",
       "      <td>01:40:00</td>\n",
       "      <td>5.00</td>\n",
       "      <td>2.367961</td>\n",
       "      <td>2.632039</td>\n",
       "    </tr>\n",
       "    <tr>\n",
       "      <th>6</th>\n",
       "      <td>2016-10-14 11:40:00</td>\n",
       "      <td>MB_ANHA1</td>\n",
       "      <td>00:10:00</td>\n",
       "      <td>0.25</td>\n",
       "      <td>0.274750</td>\n",
       "      <td>-0.024750</td>\n",
       "    </tr>\n",
       "  </tbody>\n",
       "</table>\n",
       "</div>"
      ],
      "text/plain": [
       "                start   station duration  Pluviometro     RADAR     ERROR\n",
       "1 2016-10-13 08:30:00  MB_ANHA1 00:10:00         0.25  0.214636  0.035364\n",
       "2 2016-10-14 07:20:00  MB_ANHA1 00:10:00         0.25  0.594438 -0.344438\n",
       "3 2016-10-14 08:10:00  MB_ANHA1 00:50:00         3.25  1.569860  1.680140\n",
       "4 2016-10-14 09:10:00  MB_ANHA1 01:40:00         5.00  2.367961  2.632039\n",
       "6 2016-10-14 11:40:00  MB_ANHA1 00:10:00         0.25  0.274750 -0.024750"
      ]
     },
     "execution_count": 5,
     "metadata": {},
     "output_type": "execute_result"
    }
   ],
   "source": [
    "df.head()"
   ]
  },
  {
   "cell_type": "code",
   "execution_count": 6,
   "metadata": {},
   "outputs": [
    {
     "name": "stdout",
     "output_type": "stream",
     "text": [
      "<class 'pandas.core.frame.DataFrame'>\n",
      "Int64Index: 8544 entries, 1 to 21017\n",
      "Data columns (total 6 columns):\n",
      "start          8544 non-null datetime64[ns]\n",
      "station        8544 non-null object\n",
      "duration       8544 non-null timedelta64[ns]\n",
      "Pluviometro    8544 non-null float64\n",
      "RADAR          8544 non-null float64\n",
      "ERROR          8544 non-null float64\n",
      "dtypes: datetime64[ns](1), float64(3), object(1), timedelta64[ns](1)\n",
      "memory usage: 467.2+ KB\n"
     ]
    }
   ],
   "source": [
    "df.info()"
   ]
  },
  {
   "cell_type": "code",
   "execution_count": 7,
   "metadata": {},
   "outputs": [
    {
     "data": {
      "text/html": [
       "<div>\n",
       "<style scoped>\n",
       "    .dataframe tbody tr th:only-of-type {\n",
       "        vertical-align: middle;\n",
       "    }\n",
       "\n",
       "    .dataframe tbody tr th {\n",
       "        vertical-align: top;\n",
       "    }\n",
       "\n",
       "    .dataframe thead th {\n",
       "        text-align: right;\n",
       "    }\n",
       "</style>\n",
       "<table border=\"1\" class=\"dataframe\">\n",
       "  <thead>\n",
       "    <tr style=\"text-align: right;\">\n",
       "      <th></th>\n",
       "      <th>start</th>\n",
       "      <th>station</th>\n",
       "      <th>duration</th>\n",
       "      <th>Pluviometro</th>\n",
       "      <th>RADAR</th>\n",
       "      <th>ERROR</th>\n",
       "    </tr>\n",
       "  </thead>\n",
       "  <tbody>\n",
       "    <tr>\n",
       "      <th>214</th>\n",
       "      <td>2017-03-01 14:50:00</td>\n",
       "      <td>MB_ANHA1</td>\n",
       "      <td>00:40:00</td>\n",
       "      <td>2.3750</td>\n",
       "      <td>15.645028</td>\n",
       "      <td>-13.270028</td>\n",
       "    </tr>\n",
       "    <tr>\n",
       "      <th>215</th>\n",
       "      <td>2017-03-03 21:30:00</td>\n",
       "      <td>MB_ANHA1</td>\n",
       "      <td>00:10:00</td>\n",
       "      <td>0.5625</td>\n",
       "      <td>0.010298</td>\n",
       "      <td>0.552202</td>\n",
       "    </tr>\n",
       "    <tr>\n",
       "      <th>216</th>\n",
       "      <td>2017-03-03 22:00:00</td>\n",
       "      <td>MB_ANHA1</td>\n",
       "      <td>00:10:00</td>\n",
       "      <td>0.0625</td>\n",
       "      <td>0.023374</td>\n",
       "      <td>0.039126</td>\n",
       "    </tr>\n",
       "    <tr>\n",
       "      <th>218</th>\n",
       "      <td>2017-03-05 14:50:00</td>\n",
       "      <td>MB_ANHA1</td>\n",
       "      <td>01:20:00</td>\n",
       "      <td>17.1250</td>\n",
       "      <td>61.118928</td>\n",
       "      <td>-43.993928</td>\n",
       "    </tr>\n",
       "    <tr>\n",
       "      <th>219</th>\n",
       "      <td>2017-03-05 16:20:00</td>\n",
       "      <td>MB_ANHA1</td>\n",
       "      <td>00:10:00</td>\n",
       "      <td>0.0625</td>\n",
       "      <td>1.243220</td>\n",
       "      <td>-1.180720</td>\n",
       "    </tr>\n",
       "  </tbody>\n",
       "</table>\n",
       "</div>"
      ],
      "text/plain": [
       "                  start   station duration  Pluviometro      RADAR      ERROR\n",
       "214 2017-03-01 14:50:00  MB_ANHA1 00:40:00       2.3750  15.645028 -13.270028\n",
       "215 2017-03-03 21:30:00  MB_ANHA1 00:10:00       0.5625   0.010298   0.552202\n",
       "216 2017-03-03 22:00:00  MB_ANHA1 00:10:00       0.0625   0.023374   0.039126\n",
       "218 2017-03-05 14:50:00  MB_ANHA1 01:20:00      17.1250  61.118928 -43.993928\n",
       "219 2017-03-05 16:20:00  MB_ANHA1 00:10:00       0.0625   1.243220  -1.180720"
      ]
     },
     "execution_count": 7,
     "metadata": {},
     "output_type": "execute_result"
    }
   ],
   "source": [
    "MARCO = 3\n",
    "df_marco = df[df.start.dt.month == MARCO]\n",
    "df_marco.head()"
   ]
  },
  {
   "cell_type": "code",
   "execution_count": 8,
   "metadata": {},
   "outputs": [
    {
     "data": {
      "text/plain": [
       "[<matplotlib.lines.Line2D at 0x7f1dfaecd9e8>]"
      ]
     },
     "execution_count": 8,
     "metadata": {},
     "output_type": "execute_result"
    },
    {
     "data": {
      "image/png": "[encoded data removed]",
      "text/plain": [
       "<Figure size 432x288 with 1 Axes>"
      ]
     },
     "metadata": {},
     "output_type": "display_data"
    }
   ],
   "source": [
    "radar_hist, bin_edges = np.histogram(df_marco.RADAR.values,bins=\"auto\",normed=True)\n",
    "pluvi_hist, bin_edges2 = np.histogram(df_marco.Pluviometro.values,bins=bin_edges,normed=True)\n",
    "dx = bin_edges[1] - bin_edges[0]\n",
    "radar_cdf = np.cumsum(radar_hist) * dx\n",
    "pluvi_cdf = np.cumsum(pluvi_hist) * dx\n",
    "plt.figure()\n",
    "plt.plot(bin_edges[1:], radar_cdf)\n",
    "plt.plot(bin_edges[1:],pluvi_cdf)"
   ]
  },
  {
   "cell_type": "code",
   "execution_count": 9,
   "metadata": {},
   "outputs": [
    {
     "data": {
      "text/plain": [
       "[<matplotlib.lines.Line2D at 0x7f1df72a59b0>]"
      ]
     },
     "execution_count": 9,
     "metadata": {},
     "output_type": "execute_result"
    },
    {
     "data": {
      "image/png": "[encoded data removed]",
      "text/plain": [
       "<Figure size 432x288 with 1 Axes>"
      ]
     },
     "metadata": {},
     "output_type": "display_data"
    }
   ],
   "source": [
    "plt.plot(bin_edges[1:], radar_cdf)"
   ]
  },
  {
   "cell_type": "code",
   "execution_count": 10,
   "metadata": {},
   "outputs": [
    {
     "data": {
      "text/plain": [
       "[<matplotlib.lines.Line2D at 0x7f1df720de48>]"
      ]
     },
     "execution_count": 10,
     "metadata": {},
     "output_type": "execute_result"
    },
    {
     "data": {
      "image/png": "[encoded data removed]",
      "text/plain": [
       "<Figure size 432x288 with 1 Axes>"
      ]
     },
     "metadata": {},
     "output_type": "display_data"
    }
   ],
   "source": [
    "plt.plot(pluvi_cdf,bin_edges[1:])"
   ]
  },
  {
   "cell_type": "markdown",
   "metadata": {},
   "source": [
    "Para o ajuste dos valores do radar, primeiro encontramos o valor do CDF correspondente ao do radar. E depois com esse valor do CDF encontramos um valor na curva do Pluviometro."
   ]
  },
  {
   "cell_type": "code",
   "execution_count": 11,
   "metadata": {},
   "outputs": [],
   "source": [
    "itp_radar_cdf = np.poly1d(np.polyfit(bin_edges[1:], radar_cdf, 5))\n",
    "itp_pluvi_ppf = np.poly1d(np.polyfit(pluvi_cdf, bin_edges[1:], 3))"
   ]
  },
  {
   "cell_type": "code",
   "execution_count": 12,
   "metadata": {},
   "outputs": [
    {
     "name": "stdout",
     "output_type": "stream",
     "text": [
      "0.9641054333550713\n"
     ]
    },
    {
     "data": {
      "text/plain": [
       "<matplotlib.collections.PathCollection at 0x7f1df6d79780>"
      ]
     },
     "execution_count": 12,
     "metadata": {},
     "output_type": "execute_result"
    },
    {
     "data": {
      "image/png": "[encoded data removed]",
      "text/plain": [
       "<Figure size 432x288 with 1 Axes>"
      ]
     },
     "metadata": {},
     "output_type": "display_data"
    }
   ],
   "source": [
    "x = np.linspace(0,70)\n",
    "radar = 20\n",
    "cdf_radar = itp_radar_cdf(20)\n",
    "print(cdf_radar)\n",
    "plt.plot(x,itp_radar_cdf(x))\n",
    "plt.scatter(radar,cdf_radar)\n"
   ]
  },
  {
   "cell_type": "markdown",
   "metadata": {},
   "source": [
    "Ajustar o gráfico ppf do pluviometro com algum polinomio é mais complicado, veja abaixo como a curva vai ter um comportamento estranho."
   ]
  },
  {
   "cell_type": "code",
   "execution_count": 13,
   "metadata": {},
   "outputs": [
    {
     "name": "stdout",
     "output_type": "stream",
     "text": [
      "31.42334539771832\n"
     ]
    },
    {
     "data": {
      "text/plain": [
       "(0, 100)"
      ]
     },
     "execution_count": 13,
     "metadata": {},
     "output_type": "execute_result"
    },
    {
     "data": {
      "image/png": "[encoded data removed]",
      "text/plain": [
       "<Figure size 432x288 with 1 Axes>"
      ]
     },
     "metadata": {},
     "output_type": "display_data"
    }
   ],
   "source": [
    "valor_corrigido = itp_pluvi_ppf(cdf_radar)\n",
    "\n",
    "eixo_cdf = np.linspace(0,1)\n",
    "print(valor_corrigido)\n",
    "plt.plot(eixo_cdf,itp_pluvi_ppf(eixo_cdf))\n",
    "#plt.scatter(valor_corrigido,valor_corrigido)\n",
    "plt.ylim((0,100))"
   ]
  },
  {
   "cell_type": "markdown",
   "metadata": {},
   "source": [
    "Para encontrar uma curva satisfatoria para ambos os casos, vou usar uma Spline\n",
    "\n",
    "* https://en.wikipedia.org/wiki/Spline_(mathematics)\n",
    "* https://en.wikipedia.org/wiki/Spline_interpolation\n",
    "\n",
    "Eu acredito que com uma sigmoid tambem seria possivel ajustar o ppf.\n",
    "\n",
    "https://en.wikipedia.org/wiki/Sigmoid_function"
   ]
  },
  {
   "cell_type": "code",
   "execution_count": 14,
   "metadata": {},
   "outputs": [],
   "source": [
    "x = np.linspace(0,80,50)\n",
    "\n",
    "radar_dist = stats.rv_histogram(np.histogram(df_marco.RADAR.values,bins=\"auto\",normed=True))\n",
    "pluvi_dist = stats.rv_histogram(np.histogram(df_marco.Pluviometro.values,bins=\"auto\",normed=True))"
   ]
  },
  {
   "cell_type": "code",
   "execution_count": 15,
   "metadata": {},
   "outputs": [],
   "source": [
    "itp_radar_cdf = UnivariateSpline(x, radar_dist.cdf(x),k=3,s=0)"
   ]
  },
  {
   "cell_type": "markdown",
   "metadata": {},
   "source": [
    "Vamos ajustar o um valor de radar de 20mm"
   ]
  },
  {
   "cell_type": "code",
   "execution_count": 16,
   "metadata": {},
   "outputs": [
    {
     "name": "stdout",
     "output_type": "stream",
     "text": [
      "0.9560556564988376\n"
     ]
    },
    {
     "data": {
      "text/plain": [
       "<matplotlib.collections.PathCollection at 0x7f1df71c0860>"
      ]
     },
     "execution_count": 16,
     "metadata": {},
     "output_type": "execute_result"
    },
    {
     "data": {
      "image/png": "[encoded data removed]",
      "text/plain": [
       "<Figure size 432x288 with 1 Axes>"
      ]
     },
     "metadata": {},
     "output_type": "display_data"
    }
   ],
   "source": [
    "itp_radar = itp_radar_cdf(radar)\n",
    "print(itp_radar)\n",
    "plt.plot(x,itp_radar_cdf(x))\n",
    "plt.scatter(radar,itp_radar)"
   ]
  },
  {
   "cell_type": "markdown",
   "metadata": {},
   "source": [
    "O problema dessa interpolação é que os valores de x **precisa** estar aumentando"
   ]
  },
  {
   "cell_type": "code",
   "execution_count": 17,
   "metadata": {},
   "outputs": [
    {
     "ename": "ValueError",
     "evalue": "x must be strictly increasing",
     "output_type": "error",
     "traceback": [
      "\u001b[0;31m----------------------------------------------------------------------\u001b[0m",
      "\u001b[0;31mValueError\u001b[0m                           Traceback (most recent call last)",
      "\u001b[0;32m<ipython-input-17-dc3fefd31e00>\u001b[0m in \u001b[0;36m<module>\u001b[0;34m()\u001b[0m\n\u001b[0;32m----> 1\u001b[0;31m \u001b[0mitp_pluvi_ppf\u001b[0m \u001b[0;34m=\u001b[0m \u001b[0mInterpolatedUnivariateSpline\u001b[0m\u001b[0;34m(\u001b[0m\u001b[0mpluvi_dist\u001b[0m\u001b[0;34m.\u001b[0m\u001b[0mcdf\u001b[0m\u001b[0;34m(\u001b[0m\u001b[0mx\u001b[0m\u001b[0;34m)\u001b[0m\u001b[0;34m,\u001b[0m\u001b[0mx\u001b[0m\u001b[0;34m,\u001b[0m \u001b[0mk\u001b[0m\u001b[0;34m=\u001b[0m\u001b[0;36m3\u001b[0m\u001b[0;34m)\u001b[0m\u001b[0;34m\u001b[0m\u001b[0m\n\u001b[0m",
      "\u001b[0;32m~/anaconda3/envs/ic/lib/python3.6/site-packages/scipy/interpolate/fitpack2.py\u001b[0m in \u001b[0;36m__init__\u001b[0;34m(self, x, y, w, bbox, k, ext, check_finite)\u001b[0m\n\u001b[1;32m    597\u001b[0m                 \u001b[0;32mraise\u001b[0m \u001b[0mValueError\u001b[0m\u001b[0;34m(\u001b[0m\u001b[0;34m\"Input must not contain NaNs or infs.\"\u001b[0m\u001b[0;34m)\u001b[0m\u001b[0;34m\u001b[0m\u001b[0m\n\u001b[1;32m    598\u001b[0m         \u001b[0;32mif\u001b[0m \u001b[0;32mnot\u001b[0m \u001b[0mall\u001b[0m\u001b[0;34m(\u001b[0m\u001b[0mdiff\u001b[0m\u001b[0;34m(\u001b[0m\u001b[0mx\u001b[0m\u001b[0;34m)\u001b[0m \u001b[0;34m>\u001b[0m \u001b[0;36m0.0\u001b[0m\u001b[0;34m)\u001b[0m\u001b[0;34m:\u001b[0m\u001b[0;34m\u001b[0m\u001b[0m\n\u001b[0;32m--> 599\u001b[0;31m             \u001b[0;32mraise\u001b[0m \u001b[0mValueError\u001b[0m\u001b[0;34m(\u001b[0m\u001b[0;34m'x must be strictly increasing'\u001b[0m\u001b[0;34m)\u001b[0m\u001b[0;34m\u001b[0m\u001b[0m\n\u001b[0m\u001b[1;32m    600\u001b[0m \u001b[0;34m\u001b[0m\u001b[0m\n\u001b[1;32m    601\u001b[0m         \u001b[0;31m# _data == x,y,w,xb,xe,k,s,n,t,c,fp,fpint,nrdata,ier\u001b[0m\u001b[0;34m\u001b[0m\u001b[0;34m\u001b[0m\u001b[0m\n",
      "\u001b[0;31mValueError\u001b[0m: x must be strictly increasing"
     ]
    }
   ],
   "source": [
    "itp_pluvi_ppf = InterpolatedUnivariateSpline(pluvi_dist.cdf(x),x, k=3)"
   ]
  },
  {
   "cell_type": "code",
   "execution_count": 18,
   "metadata": {},
   "outputs": [
    {
     "data": {
      "text/plain": [
       "array([0.        , 0.7189414 , 0.80445737, 0.84854614, 0.88042352,\n",
       "       0.89737301, 0.91036148, 0.92081694, 0.93029679, 0.93684981,\n",
       "       0.94435484, 0.94926829, 0.95538029, 0.96      , 0.96181004,\n",
       "       0.96446062, 0.96682927, 0.96878049, 0.9697561 , 0.97408734,\n",
       "       0.97560976, 0.97560976, 0.97756098, 0.98078723, 0.98441343,\n",
       "       0.98634146, 0.98678776, 0.98829268, 0.98829268, 0.98926829,\n",
       "       0.98926829, 0.98926829, 0.9902439 , 0.99219512, 0.99238267,\n",
       "       0.99317073, 0.99317073, 0.99512195, 0.99512195, 0.99512195,\n",
       "       0.99512195, 0.9963026 , 0.99797757, 0.99804878, 0.99804878,\n",
       "       0.99902439, 0.99902439, 0.99902439, 1.        , 1.        ])"
      ]
     },
     "execution_count": 18,
     "metadata": {},
     "output_type": "execute_result"
    }
   ],
   "source": [
    "pluvi_cdf = pluvi_dist.cdf(x)\n",
    "pluvi_cdf"
   ]
  },
  {
   "cell_type": "markdown",
   "metadata": {},
   "source": [
    "Descobrir onde o array não está \"crescendo\""
   ]
  },
  {
   "cell_type": "code",
   "execution_count": 19,
   "metadata": {},
   "outputs": [
    {
     "data": {
      "text/plain": [
       "array([ True,  True,  True,  True,  True,  True,  True,  True,  True,\n",
       "        True,  True,  True,  True,  True,  True,  True,  True,  True,\n",
       "        True,  True,  True, False,  True,  True,  True,  True,  True,\n",
       "        True, False,  True, False, False,  True,  True,  True,  True,\n",
       "       False,  True, False, False, False,  True,  True,  True, False,\n",
       "        True, False, False,  True, False])"
      ]
     },
     "execution_count": 19,
     "metadata": {},
     "output_type": "execute_result"
    }
   ],
   "source": [
    "idx_increasing = (pluvi_cdf - np.roll(pluvi_cdf,1))[1:] > 0\n",
    "idx_increasing = np.insert(idx_increasing,0,True)\n",
    "idx_increasing"
   ]
  },
  {
   "cell_type": "code",
   "execution_count": 20,
   "metadata": {},
   "outputs": [],
   "source": [
    "pluvi_cdf = pluvi_cdf[idx_increasing]\n",
    "x = x[idx_increasing]"
   ]
  },
  {
   "cell_type": "code",
   "execution_count": 21,
   "metadata": {},
   "outputs": [
    {
     "data": {
      "text/plain": [
       "[<matplotlib.lines.Line2D at 0x7f1df6c19e48>]"
      ]
     },
     "execution_count": 21,
     "metadata": {},
     "output_type": "execute_result"
    },
    {
     "data": {
      "image/png": "[encoded data removed]",
      "text/plain": [
       "<Figure size 432x288 with 1 Axes>"
      ]
     },
     "metadata": {},
     "output_type": "display_data"
    }
   ],
   "source": [
    "plt.plot(pluvi_cdf,x)"
   ]
  },
  {
   "cell_type": "code",
   "execution_count": 22,
   "metadata": {},
   "outputs": [],
   "source": [
    "itp_pluvi_ppf = UnivariateSpline(pluvi_cdf,x, k=5,s=1)"
   ]
  },
  {
   "cell_type": "markdown",
   "metadata": {},
   "source": [
    "Vamos agora jogar o valor da interpolação do radar, na curva ppf do pluviometro."
   ]
  },
  {
   "cell_type": "code",
   "execution_count": 23,
   "metadata": {},
   "outputs": [
    {
     "name": "stdout",
     "output_type": "stream",
     "text": [
      "Valor real de precipitação : 19.62mm, quando o Radar mostrar valor de 20mm\n"
     ]
    },
    {
     "data": {
      "image/png": "[encoded data removed]",
      "text/plain": [
       "<Figure size 432x288 with 1 Axes>"
      ]
     },
     "metadata": {},
     "output_type": "display_data"
    }
   ],
   "source": [
    "itp_pluvi = itp_pluvi_ppf(itp_radar)\n",
    "print(f\"Valor real de precipitação : {round(itp_pluvi.tolist(),2)}mm, quando o Radar mostrar valor de {radar}mm\")\n",
    "plt.plot(itp_radar_cdf(x),itp_pluvi_ppf(itp_radar_cdf(x)));\n"
   ]
  },
  {
   "cell_type": "code",
   "execution_count": 24,
   "metadata": {},
   "outputs": [],
   "source": [
    "meses = [\"Janeiro\",\n",
    "\"Fevereiro\",\n",
    "\"Março\",\n",
    "\"Abril\",\n",
    "\"Maio\",\n",
    "\"Junho\",\n",
    "\"Julho\",\n",
    "\"Agosto\",\n",
    "\"Setembro\",\n",
    "\"Outubro\",\n",
    "\"Novembro\",\n",
    "\"Dezembro\"]"
   ]
  },
  {
   "cell_type": "code",
   "execution_count": 25,
   "metadata": {},
   "outputs": [],
   "source": [
    "def save_graph(radar_cdf, pluvi_cdf,corrected_quantiles, month):\n",
    "    plt.figure()\n",
    "\n",
    "    n_month = meses[month-1]\n",
    "\n",
    "    plt.title(n_month)\n",
    "    \n",
    "    plt.plot(corrected_quantiles, radar_cdf,label=\"Radar\")\n",
    "    plt.plot(corrected_quantiles, pluvi_cdf,label=\"Pluviometro\")\n",
    "\n",
    "    name = \"IMAGENS/CDFs/{}.png\".format(n_month)\n",
    "    \n",
    "    plt.legend()\n",
    "    plt.savefig(name)"
   ]
  },
  {
   "cell_type": "code",
   "execution_count": 26,
   "metadata": {},
   "outputs": [],
   "source": [
    "def isIncresing(array):\n",
    "    return all((array - np.roll(array,1))[1:] > 0)\n",
    "\n",
    "def idx_of_Increasing(array):\n",
    "    idx_increasing = (array - np.roll(array,1))[1:] > 0\n",
    "    idx_increasing = np.insert(idx_increasing,0,True)\n",
    "    return idx_increasing\n"
   ]
  },
  {
   "cell_type": "code",
   "execution_count": 27,
   "metadata": {},
   "outputs": [],
   "source": [
    "def cdf(radar,pluviometro,k=3):\n",
    "    \n",
    "\n",
    "    \n",
    "    radar_dist = stats.rv_histogram(np.histogram(radar, bins=\"auto\",normed=True))\n",
    "    pluvi_dist = stats.rv_histogram(np.histogram(pluviometro,bins=\"auto\",normed=True))\n",
    "\n",
    "    max_ = max(np.max(radar),np.max(pluviometro))\n",
    "    \n",
    "    x = np.linspace(0,max_,50)\n",
    "    radar_cdf = radar_dist.cdf(x)\n",
    "    itp_radar_cdf = UnivariateSpline(x, radar_cdf,s=1,k=3)\n",
    "\n",
    "    pluvi_cdf = pluvi_dist.cdf(x)\n",
    "    if not isIncresing(pluvi_cdf):\n",
    "        idx_increasing = idx_of_Increasing(pluvi_cdf)\n",
    "        pluvi_cdf = pluvi_cdf[idx_increasing]\n",
    "        x = x[idx_increasing]\n",
    "    itp_pluvi_ppf = UnivariateSpline(pluvi_cdf,x, s=1,k=3)\n",
    "    \n",
    "    save_graph(radar_dist.cdf(x),pluvi_dist.cdf(x),x,month)\n",
    "    \n",
    "    return lambda x: itp_pluvi_ppf(itp_radar_cdf(x))"
   ]
  },
  {
   "cell_type": "code",
   "execution_count": 28,
   "metadata": {},
   "outputs": [],
   "source": [
    "def correction(serie,itps):\n",
    "    month = serie[\"start\"].month\n",
    "    \n",
    "    serie[\"CDF_CORR\"] = itps[month](serie[\"RADAR\"])\n",
    "    return serie"
   ]
  },
  {
   "cell_type": "code",
   "execution_count": 29,
   "metadata": {},
   "outputs": [
    {
     "data": {
      "image/png": "[encoded data removed]",
      "text/plain": [
       "<Figure size 432x288 with 1 Axes>"
      ]
     },
     "metadata": {},
     "output_type": "display_data"
    },
    {
     "data": {
      "image/png": "[encoded data removed]",
      "text/plain": [
       "<Figure size 432x288 with 1 Axes>"
      ]
     },
     "metadata": {},
     "output_type": "display_data"
    },
    {
     "data": {
      "image/png": "[encoded data removed]",
      "text/plain": [
       "<Figure size 432x288 with 1 Axes>"
      ]
     },
     "metadata": {},
     "output_type": "display_data"
    },
    {
     "data": {
      "image/png": "[encoded data removed]",
      "text/plain": [
       "<Figure size 432x288 with 1 Axes>"
      ]
     },
     "metadata": {},
     "output_type": "display_data"
    },
    {
     "data": {
      "image/png": "[encoded data removed]",
      "text/plain": [
       "<Figure size 432x288 with 1 Axes>"
      ]
     },
     "metadata": {},
     "output_type": "display_data"
    },
    {
     "data": {
      "image/png": "[encoded data removed]",
      "text/plain": [
       "<Figure size 432x288 with 1 Axes>"
      ]
     },
     "metadata": {},
     "output_type": "display_data"
    },
    {
     "data": {
      "image/png": "[encoded data removed]",
      "text/plain": [
       "<Figure size 432x288 with 1 Axes>"
      ]
     },
     "metadata": {},
     "output_type": "display_data"
    },
    {
     "data": {
      "image/png": "[encoded data removed]",
      "text/plain": [
       "<Figure size 432x288 with 1 Axes>"
      ]
     },
     "metadata": {},
     "output_type": "display_data"
    },
    {
     "data": {
      "image/png": "[encoded data removed]",
      "text/plain": [
       "<Figure size 432x288 with 1 Axes>"
      ]
     },
     "metadata": {},
     "output_type": "display_data"
    },
    {
     "data": {
      "image/png": "[encoded data removed]",
      "text/plain": [
       "<Figure size 432x288 with 1 Axes>"
      ]
     },
     "metadata": {},
     "output_type": "display_data"
    },
    {
     "data": {
      "image/png": "[encoded data removed]",
      "text/plain": [
       "<Figure size 432x288 with 1 Axes>"
      ]
     },
     "metadata": {},
     "output_type": "display_data"
    }
   ],
   "source": [
    "months = df.start.dt.month.unique()\n",
    "functions = {}\n",
    "itps = {}\n",
    "for month in months:\n",
    "    df_month = df[df.start.dt.month == month]    \n",
    "    itps[month] = cdf(df_month.RADAR.values,df_month.Pluviometro.values)\n",
    "    "
   ]
  },
  {
   "cell_type": "code",
   "execution_count": 30,
   "metadata": {},
   "outputs": [
    {
     "data": {
      "text/html": [
       "<div>\n",
       "<style scoped>\n",
       "    .dataframe tbody tr th:only-of-type {\n",
       "        vertical-align: middle;\n",
       "    }\n",
       "\n",
       "    .dataframe tbody tr th {\n",
       "        vertical-align: top;\n",
       "    }\n",
       "\n",
       "    .dataframe thead th {\n",
       "        text-align: right;\n",
       "    }\n",
       "</style>\n",
       "<table border=\"1\" class=\"dataframe\">\n",
       "  <thead>\n",
       "    <tr style=\"text-align: right;\">\n",
       "      <th></th>\n",
       "      <th>start</th>\n",
       "      <th>station</th>\n",
       "      <th>duration</th>\n",
       "      <th>Pluviometro</th>\n",
       "      <th>RADAR</th>\n",
       "      <th>ERROR</th>\n",
       "      <th>CDF_CORR</th>\n",
       "    </tr>\n",
       "  </thead>\n",
       "  <tbody>\n",
       "    <tr>\n",
       "      <th>1</th>\n",
       "      <td>2016-10-13 08:30:00</td>\n",
       "      <td>MB_ANHA1</td>\n",
       "      <td>00:10:00</td>\n",
       "      <td>0.25</td>\n",
       "      <td>0.214636</td>\n",
       "      <td>0.035364</td>\n",
       "      <td>0.9643906593531182</td>\n",
       "    </tr>\n",
       "    <tr>\n",
       "      <th>2</th>\n",
       "      <td>2016-10-14 07:20:00</td>\n",
       "      <td>MB_ANHA1</td>\n",
       "      <td>00:10:00</td>\n",
       "      <td>0.25</td>\n",
       "      <td>0.594438</td>\n",
       "      <td>-0.344438</td>\n",
       "      <td>0.9602440682006892</td>\n",
       "    </tr>\n",
       "    <tr>\n",
       "      <th>3</th>\n",
       "      <td>2016-10-14 08:10:00</td>\n",
       "      <td>MB_ANHA1</td>\n",
       "      <td>00:50:00</td>\n",
       "      <td>3.25</td>\n",
       "      <td>1.569860</td>\n",
       "      <td>1.680140</td>\n",
       "      <td>1.1097719013563594</td>\n",
       "    </tr>\n",
       "    <tr>\n",
       "      <th>4</th>\n",
       "      <td>2016-10-14 09:10:00</td>\n",
       "      <td>MB_ANHA1</td>\n",
       "      <td>01:40:00</td>\n",
       "      <td>5.00</td>\n",
       "      <td>2.367961</td>\n",
       "      <td>2.632039</td>\n",
       "      <td>1.4039279815681456</td>\n",
       "    </tr>\n",
       "    <tr>\n",
       "      <th>6</th>\n",
       "      <td>2016-10-14 11:40:00</td>\n",
       "      <td>MB_ANHA1</td>\n",
       "      <td>00:10:00</td>\n",
       "      <td>0.25</td>\n",
       "      <td>0.274750</td>\n",
       "      <td>-0.024750</td>\n",
       "      <td>0.9614528539858156</td>\n",
       "    </tr>\n",
       "  </tbody>\n",
       "</table>\n",
       "</div>"
      ],
      "text/plain": [
       "                start   station duration  Pluviometro     RADAR     ERROR  \\\n",
       "1 2016-10-13 08:30:00  MB_ANHA1 00:10:00         0.25  0.214636  0.035364   \n",
       "2 2016-10-14 07:20:00  MB_ANHA1 00:10:00         0.25  0.594438 -0.344438   \n",
       "3 2016-10-14 08:10:00  MB_ANHA1 00:50:00         3.25  1.569860  1.680140   \n",
       "4 2016-10-14 09:10:00  MB_ANHA1 01:40:00         5.00  2.367961  2.632039   \n",
       "6 2016-10-14 11:40:00  MB_ANHA1 00:10:00         0.25  0.274750 -0.024750   \n",
       "\n",
       "             CDF_CORR  \n",
       "1  0.9643906593531182  \n",
       "2  0.9602440682006892  \n",
       "3  1.1097719013563594  \n",
       "4  1.4039279815681456  \n",
       "6  0.9614528539858156  "
      ]
     },
     "execution_count": 30,
     "metadata": {},
     "output_type": "execute_result"
    }
   ],
   "source": [
    "df = df.apply(correction,args=[itps],axis=1)\n",
    "df.head()"
   ]
  },
  {
   "cell_type": "code",
   "execution_count": 31,
   "metadata": {},
   "outputs": [
    {
     "data": {
      "text/html": [
       "<div>\n",
       "<style scoped>\n",
       "    .dataframe tbody tr th:only-of-type {\n",
       "        vertical-align: middle;\n",
       "    }\n",
       "\n",
       "    .dataframe tbody tr th {\n",
       "        vertical-align: top;\n",
       "    }\n",
       "\n",
       "    .dataframe thead th {\n",
       "        text-align: right;\n",
       "    }\n",
       "</style>\n",
       "<table border=\"1\" class=\"dataframe\">\n",
       "  <thead>\n",
       "    <tr style=\"text-align: right;\">\n",
       "      <th></th>\n",
       "      <th>start</th>\n",
       "      <th>station</th>\n",
       "      <th>duration</th>\n",
       "      <th>Pluviometro</th>\n",
       "      <th>RADAR</th>\n",
       "      <th>ERROR</th>\n",
       "      <th>CDF_CORR</th>\n",
       "      <th>CDF_ERROR</th>\n",
       "    </tr>\n",
       "  </thead>\n",
       "  <tbody>\n",
       "    <tr>\n",
       "      <th>1</th>\n",
       "      <td>2016-10-13 08:30:00</td>\n",
       "      <td>MB_ANHA1</td>\n",
       "      <td>00:10:00</td>\n",
       "      <td>0.25</td>\n",
       "      <td>0.214636</td>\n",
       "      <td>0.035364</td>\n",
       "      <td>0.9643906593531182</td>\n",
       "      <td>-0.714391</td>\n",
       "    </tr>\n",
       "    <tr>\n",
       "      <th>2</th>\n",
       "      <td>2016-10-14 07:20:00</td>\n",
       "      <td>MB_ANHA1</td>\n",
       "      <td>00:10:00</td>\n",
       "      <td>0.25</td>\n",
       "      <td>0.594438</td>\n",
       "      <td>-0.344438</td>\n",
       "      <td>0.9602440682006892</td>\n",
       "      <td>-0.710244</td>\n",
       "    </tr>\n",
       "    <tr>\n",
       "      <th>3</th>\n",
       "      <td>2016-10-14 08:10:00</td>\n",
       "      <td>MB_ANHA1</td>\n",
       "      <td>00:50:00</td>\n",
       "      <td>3.25</td>\n",
       "      <td>1.569860</td>\n",
       "      <td>1.680140</td>\n",
       "      <td>1.1097719013563594</td>\n",
       "      <td>2.14023</td>\n",
       "    </tr>\n",
       "    <tr>\n",
       "      <th>4</th>\n",
       "      <td>2016-10-14 09:10:00</td>\n",
       "      <td>MB_ANHA1</td>\n",
       "      <td>01:40:00</td>\n",
       "      <td>5.00</td>\n",
       "      <td>2.367961</td>\n",
       "      <td>2.632039</td>\n",
       "      <td>1.4039279815681456</td>\n",
       "      <td>3.59607</td>\n",
       "    </tr>\n",
       "    <tr>\n",
       "      <th>6</th>\n",
       "      <td>2016-10-14 11:40:00</td>\n",
       "      <td>MB_ANHA1</td>\n",
       "      <td>00:10:00</td>\n",
       "      <td>0.25</td>\n",
       "      <td>0.274750</td>\n",
       "      <td>-0.024750</td>\n",
       "      <td>0.9614528539858156</td>\n",
       "      <td>-0.711453</td>\n",
       "    </tr>\n",
       "  </tbody>\n",
       "</table>\n",
       "</div>"
      ],
      "text/plain": [
       "                start   station duration  Pluviometro     RADAR     ERROR  \\\n",
       "1 2016-10-13 08:30:00  MB_ANHA1 00:10:00         0.25  0.214636  0.035364   \n",
       "2 2016-10-14 07:20:00  MB_ANHA1 00:10:00         0.25  0.594438 -0.344438   \n",
       "3 2016-10-14 08:10:00  MB_ANHA1 00:50:00         3.25  1.569860  1.680140   \n",
       "4 2016-10-14 09:10:00  MB_ANHA1 01:40:00         5.00  2.367961  2.632039   \n",
       "6 2016-10-14 11:40:00  MB_ANHA1 00:10:00         0.25  0.274750 -0.024750   \n",
       "\n",
       "             CDF_CORR CDF_ERROR  \n",
       "1  0.9643906593531182 -0.714391  \n",
       "2  0.9602440682006892 -0.710244  \n",
       "3  1.1097719013563594   2.14023  \n",
       "4  1.4039279815681456   3.59607  \n",
       "6  0.9614528539858156 -0.711453  "
      ]
     },
     "execution_count": 31,
     "metadata": {},
     "output_type": "execute_result"
    }
   ],
   "source": [
    "df[\"CDF_ERROR\"] = df.Pluviometro - df.CDF_CORR\n",
    "df.head()"
   ]
  },
  {
   "cell_type": "code",
   "execution_count": 32,
   "metadata": {},
   "outputs": [],
   "source": [
    "df[[\"CDF_CORR\", \"CDF_ERROR\"]] = df[[\"CDF_CORR\", \"CDF_ERROR\"]].astype(float)"
   ]
  },
  {
   "cell_type": "code",
   "execution_count": 33,
   "metadata": {},
   "outputs": [
    {
     "data": {
      "text/html": [
       "<div>\n",
       "<style scoped>\n",
       "    .dataframe tbody tr th:only-of-type {\n",
       "        vertical-align: middle;\n",
       "    }\n",
       "\n",
       "    .dataframe tbody tr th {\n",
       "        vertical-align: top;\n",
       "    }\n",
       "\n",
       "    .dataframe thead th {\n",
       "        text-align: right;\n",
       "    }\n",
       "</style>\n",
       "<table border=\"1\" class=\"dataframe\">\n",
       "  <thead>\n",
       "    <tr style=\"text-align: right;\">\n",
       "      <th></th>\n",
       "      <th>duration</th>\n",
       "      <th>Pluviometro</th>\n",
       "      <th>RADAR</th>\n",
       "      <th>ERROR</th>\n",
       "      <th>CDF_CORR</th>\n",
       "      <th>CDF_ERROR</th>\n",
       "    </tr>\n",
       "  </thead>\n",
       "  <tbody>\n",
       "    <tr>\n",
       "      <th>count</th>\n",
       "      <td>8544</td>\n",
       "      <td>8544.000000</td>\n",
       "      <td>8544.000000</td>\n",
       "      <td>8544.000000</td>\n",
       "      <td>8.544000e+03</td>\n",
       "      <td>8.544000e+03</td>\n",
       "    </tr>\n",
       "    <tr>\n",
       "      <th>mean</th>\n",
       "      <td>0 days 00:36:18.230337</td>\n",
       "      <td>2.682317</td>\n",
       "      <td>1.705295</td>\n",
       "      <td>0.977022</td>\n",
       "      <td>-2.509249e+07</td>\n",
       "      <td>2.509249e+07</td>\n",
       "    </tr>\n",
       "    <tr>\n",
       "      <th>std</th>\n",
       "      <td>0 days 00:47:43.212458</td>\n",
       "      <td>6.951322</td>\n",
       "      <td>5.194622</td>\n",
       "      <td>5.869782</td>\n",
       "      <td>9.025687e+08</td>\n",
       "      <td>9.025687e+08</td>\n",
       "    </tr>\n",
       "    <tr>\n",
       "      <th>min</th>\n",
       "      <td>0 days 00:10:00</td>\n",
       "      <td>0.015625</td>\n",
       "      <td>0.010000</td>\n",
       "      <td>-53.711793</td>\n",
       "      <td>-4.067672e+10</td>\n",
       "      <td>-1.700031e+06</td>\n",
       "    </tr>\n",
       "    <tr>\n",
       "      <th>25%</th>\n",
       "      <td>0 days 00:10:00</td>\n",
       "      <td>0.187500</td>\n",
       "      <td>0.037430</td>\n",
       "      <td>-0.030878</td>\n",
       "      <td>1.348555e+00</td>\n",
       "      <td>-1.562064e+00</td>\n",
       "    </tr>\n",
       "    <tr>\n",
       "      <th>50%</th>\n",
       "      <td>0 days 00:20:00</td>\n",
       "      <td>0.375000</td>\n",
       "      <td>0.162219</td>\n",
       "      <td>0.174438</td>\n",
       "      <td>1.760624e+00</td>\n",
       "      <td>-9.053916e-01</td>\n",
       "    </tr>\n",
       "    <tr>\n",
       "      <th>75%</th>\n",
       "      <td>0 days 00:40:00</td>\n",
       "      <td>2.000000</td>\n",
       "      <td>0.853044</td>\n",
       "      <td>0.820891</td>\n",
       "      <td>2.010928e+00</td>\n",
       "      <td>2.742566e-01</td>\n",
       "    </tr>\n",
       "    <tr>\n",
       "      <th>max</th>\n",
       "      <td>0 days 17:00:00</td>\n",
       "      <td>143.000000</td>\n",
       "      <td>77.127213</td>\n",
       "      <td>142.990000</td>\n",
       "      <td>1.700085e+06</td>\n",
       "      <td>4.067672e+10</td>\n",
       "    </tr>\n",
       "  </tbody>\n",
       "</table>\n",
       "</div>"
      ],
      "text/plain": [
       "                     duration  Pluviometro        RADAR        ERROR  \\\n",
       "count                    8544  8544.000000  8544.000000  8544.000000   \n",
       "mean   0 days 00:36:18.230337     2.682317     1.705295     0.977022   \n",
       "std    0 days 00:47:43.212458     6.951322     5.194622     5.869782   \n",
       "min           0 days 00:10:00     0.015625     0.010000   -53.711793   \n",
       "25%           0 days 00:10:00     0.187500     0.037430    -0.030878   \n",
       "50%           0 days 00:20:00     0.375000     0.162219     0.174438   \n",
       "75%           0 days 00:40:00     2.000000     0.853044     0.820891   \n",
       "max           0 days 17:00:00   143.000000    77.127213   142.990000   \n",
       "\n",
       "           CDF_CORR     CDF_ERROR  \n",
       "count  8.544000e+03  8.544000e+03  \n",
       "mean  -2.509249e+07  2.509249e+07  \n",
       "std    9.025687e+08  9.025687e+08  \n",
       "min   -4.067672e+10 -1.700031e+06  \n",
       "25%    1.348555e+00 -1.562064e+00  \n",
       "50%    1.760624e+00 -9.053916e-01  \n",
       "75%    2.010928e+00  2.742566e-01  \n",
       "max    1.700085e+06  4.067672e+10  "
      ]
     },
     "execution_count": 33,
     "metadata": {},
     "output_type": "execute_result"
    }
   ],
   "source": [
    "df.describe()"
   ]
  },
  {
   "cell_type": "code",
   "execution_count": 34,
   "metadata": {},
   "outputs": [
    {
     "data": {
      "text/html": [
       "<div>\n",
       "<style scoped>\n",
       "    .dataframe tbody tr th:only-of-type {\n",
       "        vertical-align: middle;\n",
       "    }\n",
       "\n",
       "    .dataframe tbody tr th {\n",
       "        vertical-align: top;\n",
       "    }\n",
       "\n",
       "    .dataframe thead th {\n",
       "        text-align: right;\n",
       "    }\n",
       "</style>\n",
       "<table border=\"1\" class=\"dataframe\">\n",
       "  <thead>\n",
       "    <tr style=\"text-align: right;\">\n",
       "      <th></th>\n",
       "      <th>start</th>\n",
       "      <th>station</th>\n",
       "      <th>duration</th>\n",
       "      <th>Pluviometro</th>\n",
       "      <th>RADAR</th>\n",
       "      <th>ERROR</th>\n",
       "      <th>CDF_CORR</th>\n",
       "      <th>CDF_ERROR</th>\n",
       "    </tr>\n",
       "  </thead>\n",
       "  <tbody>\n",
       "    <tr>\n",
       "      <th>1</th>\n",
       "      <td>2016-10-13 08:30:00</td>\n",
       "      <td>MB_ANHA1</td>\n",
       "      <td>00:10:00</td>\n",
       "      <td>0.2500</td>\n",
       "      <td>0.214636</td>\n",
       "      <td>0.035364</td>\n",
       "      <td>0.964391</td>\n",
       "      <td>-0.714391</td>\n",
       "    </tr>\n",
       "    <tr>\n",
       "      <th>2</th>\n",
       "      <td>2016-10-14 07:20:00</td>\n",
       "      <td>MB_ANHA1</td>\n",
       "      <td>00:10:00</td>\n",
       "      <td>0.2500</td>\n",
       "      <td>0.594438</td>\n",
       "      <td>-0.344438</td>\n",
       "      <td>0.960244</td>\n",
       "      <td>-0.710244</td>\n",
       "    </tr>\n",
       "    <tr>\n",
       "      <th>3</th>\n",
       "      <td>2016-10-14 08:10:00</td>\n",
       "      <td>MB_ANHA1</td>\n",
       "      <td>00:50:00</td>\n",
       "      <td>3.2500</td>\n",
       "      <td>1.569860</td>\n",
       "      <td>1.680140</td>\n",
       "      <td>1.109772</td>\n",
       "      <td>2.140228</td>\n",
       "    </tr>\n",
       "    <tr>\n",
       "      <th>4</th>\n",
       "      <td>2016-10-14 09:10:00</td>\n",
       "      <td>MB_ANHA1</td>\n",
       "      <td>01:40:00</td>\n",
       "      <td>5.0000</td>\n",
       "      <td>2.367961</td>\n",
       "      <td>2.632039</td>\n",
       "      <td>1.403928</td>\n",
       "      <td>3.596072</td>\n",
       "    </tr>\n",
       "    <tr>\n",
       "      <th>6</th>\n",
       "      <td>2016-10-14 11:40:00</td>\n",
       "      <td>MB_ANHA1</td>\n",
       "      <td>00:10:00</td>\n",
       "      <td>0.2500</td>\n",
       "      <td>0.274750</td>\n",
       "      <td>-0.024750</td>\n",
       "      <td>0.961453</td>\n",
       "      <td>-0.711453</td>\n",
       "    </tr>\n",
       "    <tr>\n",
       "      <th>7</th>\n",
       "      <td>2016-10-14 12:00:00</td>\n",
       "      <td>MB_ANHA1</td>\n",
       "      <td>00:10:00</td>\n",
       "      <td>0.2500</td>\n",
       "      <td>0.121554</td>\n",
       "      <td>0.128446</td>\n",
       "      <td>0.970610</td>\n",
       "      <td>-0.720610</td>\n",
       "    </tr>\n",
       "    <tr>\n",
       "      <th>8</th>\n",
       "      <td>2016-10-14 12:40:00</td>\n",
       "      <td>MB_ANHA1</td>\n",
       "      <td>00:20:00</td>\n",
       "      <td>1.2500</td>\n",
       "      <td>0.625225</td>\n",
       "      <td>0.624775</td>\n",
       "      <td>0.961421</td>\n",
       "      <td>0.288579</td>\n",
       "    </tr>\n",
       "    <tr>\n",
       "      <th>9</th>\n",
       "      <td>2016-10-20 16:00:00</td>\n",
       "      <td>MB_ANHA1</td>\n",
       "      <td>00:50:00</td>\n",
       "      <td>11.0000</td>\n",
       "      <td>0.880495</td>\n",
       "      <td>10.119505</td>\n",
       "      <td>0.980026</td>\n",
       "      <td>10.019974</td>\n",
       "    </tr>\n",
       "    <tr>\n",
       "      <th>11</th>\n",
       "      <td>2016-10-20 19:00:00</td>\n",
       "      <td>MB_ANHA1</td>\n",
       "      <td>01:50:00</td>\n",
       "      <td>8.2500</td>\n",
       "      <td>3.004278</td>\n",
       "      <td>5.245722</td>\n",
       "      <td>1.745019</td>\n",
       "      <td>6.504981</td>\n",
       "    </tr>\n",
       "    <tr>\n",
       "      <th>12</th>\n",
       "      <td>2016-10-20 21:00:00</td>\n",
       "      <td>MB_ANHA1</td>\n",
       "      <td>00:10:00</td>\n",
       "      <td>0.2500</td>\n",
       "      <td>0.011158</td>\n",
       "      <td>0.238842</td>\n",
       "      <td>0.980595</td>\n",
       "      <td>-0.730595</td>\n",
       "    </tr>\n",
       "    <tr>\n",
       "      <th>14</th>\n",
       "      <td>2016-10-23 14:40:00</td>\n",
       "      <td>MB_ANHA1</td>\n",
       "      <td>01:30:00</td>\n",
       "      <td>21.0000</td>\n",
       "      <td>4.680203</td>\n",
       "      <td>16.319797</td>\n",
       "      <td>3.046420</td>\n",
       "      <td>17.953580</td>\n",
       "    </tr>\n",
       "    <tr>\n",
       "      <th>16</th>\n",
       "      <td>2016-10-26 00:40:00</td>\n",
       "      <td>MB_ANHA1</td>\n",
       "      <td>00:10:00</td>\n",
       "      <td>1.0000</td>\n",
       "      <td>0.118274</td>\n",
       "      <td>0.881726</td>\n",
       "      <td>0.970866</td>\n",
       "      <td>0.029134</td>\n",
       "    </tr>\n",
       "    <tr>\n",
       "      <th>17</th>\n",
       "      <td>2016-10-26 01:00:00</td>\n",
       "      <td>MB_ANHA1</td>\n",
       "      <td>00:30:00</td>\n",
       "      <td>2.0000</td>\n",
       "      <td>0.105403</td>\n",
       "      <td>1.894597</td>\n",
       "      <td>0.971895</td>\n",
       "      <td>1.028105</td>\n",
       "    </tr>\n",
       "    <tr>\n",
       "      <th>19</th>\n",
       "      <td>2016-10-26 16:50:00</td>\n",
       "      <td>MB_ANHA1</td>\n",
       "      <td>03:10:00</td>\n",
       "      <td>28.2500</td>\n",
       "      <td>8.459200</td>\n",
       "      <td>19.790800</td>\n",
       "      <td>7.628728</td>\n",
       "      <td>20.621272</td>\n",
       "    </tr>\n",
       "    <tr>\n",
       "      <th>21</th>\n",
       "      <td>2016-10-27 00:50:00</td>\n",
       "      <td>MB_ANHA1</td>\n",
       "      <td>00:10:00</td>\n",
       "      <td>0.2500</td>\n",
       "      <td>0.011080</td>\n",
       "      <td>0.238920</td>\n",
       "      <td>0.980603</td>\n",
       "      <td>-0.730603</td>\n",
       "    </tr>\n",
       "    <tr>\n",
       "      <th>22</th>\n",
       "      <td>2016-10-27 02:40:00</td>\n",
       "      <td>MB_ANHA1</td>\n",
       "      <td>00:40:00</td>\n",
       "      <td>1.2500</td>\n",
       "      <td>0.190539</td>\n",
       "      <td>1.059461</td>\n",
       "      <td>0.965807</td>\n",
       "      <td>0.284193</td>\n",
       "    </tr>\n",
       "    <tr>\n",
       "      <th>25</th>\n",
       "      <td>2016-10-31 14:20:00</td>\n",
       "      <td>MB_ANHA1</td>\n",
       "      <td>00:30:00</td>\n",
       "      <td>7.0000</td>\n",
       "      <td>0.034825</td>\n",
       "      <td>6.965175</td>\n",
       "      <td>0.978218</td>\n",
       "      <td>6.021782</td>\n",
       "    </tr>\n",
       "    <tr>\n",
       "      <th>28</th>\n",
       "      <td>2016-11-02 10:20:00</td>\n",
       "      <td>MB_ANHA1</td>\n",
       "      <td>01:10:00</td>\n",
       "      <td>10.7500</td>\n",
       "      <td>1.616263</td>\n",
       "      <td>9.133737</td>\n",
       "      <td>1.700235</td>\n",
       "      <td>9.049765</td>\n",
       "    </tr>\n",
       "    <tr>\n",
       "      <th>29</th>\n",
       "      <td>2016-11-02 11:40:00</td>\n",
       "      <td>MB_ANHA1</td>\n",
       "      <td>00:20:00</td>\n",
       "      <td>0.5000</td>\n",
       "      <td>2.093310</td>\n",
       "      <td>-1.593310</td>\n",
       "      <td>1.805346</td>\n",
       "      <td>-1.305346</td>\n",
       "    </tr>\n",
       "    <tr>\n",
       "      <th>30</th>\n",
       "      <td>2016-11-02 12:10:00</td>\n",
       "      <td>MB_ANHA1</td>\n",
       "      <td>01:40:00</td>\n",
       "      <td>10.5000</td>\n",
       "      <td>3.286372</td>\n",
       "      <td>7.213628</td>\n",
       "      <td>2.177835</td>\n",
       "      <td>8.322165</td>\n",
       "    </tr>\n",
       "    <tr>\n",
       "      <th>31</th>\n",
       "      <td>2016-11-02 14:10:00</td>\n",
       "      <td>MB_ANHA1</td>\n",
       "      <td>00:10:00</td>\n",
       "      <td>0.2500</td>\n",
       "      <td>0.031870</td>\n",
       "      <td>0.218130</td>\n",
       "      <td>1.538324</td>\n",
       "      <td>-1.288324</td>\n",
       "    </tr>\n",
       "    <tr>\n",
       "      <th>32</th>\n",
       "      <td>2016-11-02 15:00:00</td>\n",
       "      <td>MB_ANHA1</td>\n",
       "      <td>00:10:00</td>\n",
       "      <td>0.2500</td>\n",
       "      <td>0.489188</td>\n",
       "      <td>-0.239188</td>\n",
       "      <td>1.555167</td>\n",
       "      <td>-1.305167</td>\n",
       "    </tr>\n",
       "    <tr>\n",
       "      <th>33</th>\n",
       "      <td>2016-11-02 15:50:00</td>\n",
       "      <td>MB_ANHA1</td>\n",
       "      <td>00:20:00</td>\n",
       "      <td>1.2500</td>\n",
       "      <td>0.363403</td>\n",
       "      <td>0.886597</td>\n",
       "      <td>1.548104</td>\n",
       "      <td>-0.298104</td>\n",
       "    </tr>\n",
       "    <tr>\n",
       "      <th>34</th>\n",
       "      <td>2016-11-02 16:20:00</td>\n",
       "      <td>MB_ANHA1</td>\n",
       "      <td>00:20:00</td>\n",
       "      <td>0.5000</td>\n",
       "      <td>0.333862</td>\n",
       "      <td>0.166138</td>\n",
       "      <td>1.546712</td>\n",
       "      <td>-1.046712</td>\n",
       "    </tr>\n",
       "    <tr>\n",
       "      <th>35</th>\n",
       "      <td>2016-11-02 16:50:00</td>\n",
       "      <td>MB_ANHA1</td>\n",
       "      <td>00:10:00</td>\n",
       "      <td>0.2500</td>\n",
       "      <td>0.229033</td>\n",
       "      <td>0.020967</td>\n",
       "      <td>1.542596</td>\n",
       "      <td>-1.292596</td>\n",
       "    </tr>\n",
       "    <tr>\n",
       "      <th>36</th>\n",
       "      <td>2016-11-02 17:10:00</td>\n",
       "      <td>MB_ANHA1</td>\n",
       "      <td>00:10:00</td>\n",
       "      <td>0.2500</td>\n",
       "      <td>0.260965</td>\n",
       "      <td>-0.010965</td>\n",
       "      <td>1.543714</td>\n",
       "      <td>-1.293714</td>\n",
       "    </tr>\n",
       "    <tr>\n",
       "      <th>37</th>\n",
       "      <td>2016-11-02 17:40:00</td>\n",
       "      <td>MB_ANHA1</td>\n",
       "      <td>00:40:00</td>\n",
       "      <td>1.0000</td>\n",
       "      <td>0.179419</td>\n",
       "      <td>0.820581</td>\n",
       "      <td>1.541094</td>\n",
       "      <td>-0.541094</td>\n",
       "    </tr>\n",
       "    <tr>\n",
       "      <th>40</th>\n",
       "      <td>2016-11-12 12:10:00</td>\n",
       "      <td>MB_ANHA1</td>\n",
       "      <td>01:00:00</td>\n",
       "      <td>1.7500</td>\n",
       "      <td>0.027227</td>\n",
       "      <td>1.722773</td>\n",
       "      <td>1.538278</td>\n",
       "      <td>0.211722</td>\n",
       "    </tr>\n",
       "    <tr>\n",
       "      <th>42</th>\n",
       "      <td>2016-11-13 01:20:00</td>\n",
       "      <td>MB_ANHA1</td>\n",
       "      <td>00:30:00</td>\n",
       "      <td>0.7500</td>\n",
       "      <td>1.108355</td>\n",
       "      <td>-0.358355</td>\n",
       "      <td>1.616730</td>\n",
       "      <td>-0.866730</td>\n",
       "    </tr>\n",
       "    <tr>\n",
       "      <th>45</th>\n",
       "      <td>2016-11-13 13:50:00</td>\n",
       "      <td>MB_ANHA1</td>\n",
       "      <td>00:20:00</td>\n",
       "      <td>0.5000</td>\n",
       "      <td>0.071295</td>\n",
       "      <td>0.428705</td>\n",
       "      <td>1.538816</td>\n",
       "      <td>-1.038816</td>\n",
       "    </tr>\n",
       "    <tr>\n",
       "      <th>...</th>\n",
       "      <td>...</td>\n",
       "      <td>...</td>\n",
       "      <td>...</td>\n",
       "      <td>...</td>\n",
       "      <td>...</td>\n",
       "      <td>...</td>\n",
       "      <td>...</td>\n",
       "      <td>...</td>\n",
       "    </tr>\n",
       "    <tr>\n",
       "      <th>20955</th>\n",
       "      <td>2018-02-01 00:20:00</td>\n",
       "      <td>MB_SEG9</td>\n",
       "      <td>00:10:00</td>\n",
       "      <td>0.1250</td>\n",
       "      <td>0.011566</td>\n",
       "      <td>0.113434</td>\n",
       "      <td>2.016637</td>\n",
       "      <td>-1.891637</td>\n",
       "    </tr>\n",
       "    <tr>\n",
       "      <th>20963</th>\n",
       "      <td>2018-02-12 15:20:00</td>\n",
       "      <td>MB_SEG9</td>\n",
       "      <td>00:40:00</td>\n",
       "      <td>1.2500</td>\n",
       "      <td>0.039762</td>\n",
       "      <td>1.210238</td>\n",
       "      <td>2.006953</td>\n",
       "      <td>-0.756953</td>\n",
       "    </tr>\n",
       "    <tr>\n",
       "      <th>20964</th>\n",
       "      <td>2018-02-12 18:30:00</td>\n",
       "      <td>MB_SEG9</td>\n",
       "      <td>00:50:00</td>\n",
       "      <td>3.7500</td>\n",
       "      <td>0.047004</td>\n",
       "      <td>3.702996</td>\n",
       "      <td>2.004485</td>\n",
       "      <td>1.745515</td>\n",
       "    </tr>\n",
       "    <tr>\n",
       "      <th>20965</th>\n",
       "      <td>2018-02-12 21:10:00</td>\n",
       "      <td>MB_SEG9</td>\n",
       "      <td>00:10:00</td>\n",
       "      <td>0.0625</td>\n",
       "      <td>0.020111</td>\n",
       "      <td>0.042389</td>\n",
       "      <td>2.013690</td>\n",
       "      <td>-1.951190</td>\n",
       "    </tr>\n",
       "    <tr>\n",
       "      <th>20966</th>\n",
       "      <td>2018-02-12 21:30:00</td>\n",
       "      <td>MB_SEG9</td>\n",
       "      <td>00:10:00</td>\n",
       "      <td>0.0625</td>\n",
       "      <td>0.047157</td>\n",
       "      <td>0.015343</td>\n",
       "      <td>2.004433</td>\n",
       "      <td>-1.941933</td>\n",
       "    </tr>\n",
       "    <tr>\n",
       "      <th>20967</th>\n",
       "      <td>2018-02-12 23:20:00</td>\n",
       "      <td>MB_SEG9</td>\n",
       "      <td>00:10:00</td>\n",
       "      <td>0.0625</td>\n",
       "      <td>0.013501</td>\n",
       "      <td>0.048999</td>\n",
       "      <td>2.015969</td>\n",
       "      <td>-1.953469</td>\n",
       "    </tr>\n",
       "    <tr>\n",
       "      <th>20969</th>\n",
       "      <td>2018-02-13 18:40:00</td>\n",
       "      <td>MB_SEG9</td>\n",
       "      <td>01:40:00</td>\n",
       "      <td>8.6875</td>\n",
       "      <td>0.915875</td>\n",
       "      <td>7.771625</td>\n",
       "      <td>1.764981</td>\n",
       "      <td>6.922519</td>\n",
       "    </tr>\n",
       "    <tr>\n",
       "      <th>20972</th>\n",
       "      <td>2018-02-14 00:40:00</td>\n",
       "      <td>MB_SEG9</td>\n",
       "      <td>00:40:00</td>\n",
       "      <td>0.3125</td>\n",
       "      <td>0.031972</td>\n",
       "      <td>0.280528</td>\n",
       "      <td>2.009617</td>\n",
       "      <td>-1.697117</td>\n",
       "    </tr>\n",
       "    <tr>\n",
       "      <th>20973</th>\n",
       "      <td>2018-02-18 01:30:00</td>\n",
       "      <td>MB_SEG9</td>\n",
       "      <td>01:30:00</td>\n",
       "      <td>0.8750</td>\n",
       "      <td>0.337558</td>\n",
       "      <td>0.537442</td>\n",
       "      <td>1.911842</td>\n",
       "      <td>-1.036842</td>\n",
       "    </tr>\n",
       "    <tr>\n",
       "      <th>20976</th>\n",
       "      <td>2018-02-18 20:00:00</td>\n",
       "      <td>MB_SEG9</td>\n",
       "      <td>00:50:00</td>\n",
       "      <td>0.6875</td>\n",
       "      <td>0.010613</td>\n",
       "      <td>0.676887</td>\n",
       "      <td>2.016967</td>\n",
       "      <td>-1.329467</td>\n",
       "    </tr>\n",
       "    <tr>\n",
       "      <th>20978</th>\n",
       "      <td>2018-02-18 21:30:00</td>\n",
       "      <td>MB_SEG9</td>\n",
       "      <td>01:10:00</td>\n",
       "      <td>0.5625</td>\n",
       "      <td>0.748687</td>\n",
       "      <td>-0.186187</td>\n",
       "      <td>1.802264</td>\n",
       "      <td>-1.239764</td>\n",
       "    </tr>\n",
       "    <tr>\n",
       "      <th>20979</th>\n",
       "      <td>2018-02-19 00:30:00</td>\n",
       "      <td>MB_SEG9</td>\n",
       "      <td>00:10:00</td>\n",
       "      <td>0.0625</td>\n",
       "      <td>0.074832</td>\n",
       "      <td>-0.012332</td>\n",
       "      <td>1.995072</td>\n",
       "      <td>-1.932572</td>\n",
       "    </tr>\n",
       "    <tr>\n",
       "      <th>20988</th>\n",
       "      <td>2018-02-19 20:00:00</td>\n",
       "      <td>MB_SEG9</td>\n",
       "      <td>00:20:00</td>\n",
       "      <td>0.5000</td>\n",
       "      <td>0.015757</td>\n",
       "      <td>0.484243</td>\n",
       "      <td>2.015191</td>\n",
       "      <td>-1.515191</td>\n",
       "    </tr>\n",
       "    <tr>\n",
       "      <th>20990</th>\n",
       "      <td>2018-02-20 07:40:00</td>\n",
       "      <td>MB_SEG9</td>\n",
       "      <td>00:10:00</td>\n",
       "      <td>0.0625</td>\n",
       "      <td>7.090017</td>\n",
       "      <td>-7.027517</td>\n",
       "      <td>3.214050</td>\n",
       "      <td>-3.151550</td>\n",
       "    </tr>\n",
       "    <tr>\n",
       "      <th>20991</th>\n",
       "      <td>2018-02-20 08:00:00</td>\n",
       "      <td>MB_SEG9</td>\n",
       "      <td>02:50:00</td>\n",
       "      <td>8.1250</td>\n",
       "      <td>19.262949</td>\n",
       "      <td>-11.137949</td>\n",
       "      <td>32.950408</td>\n",
       "      <td>-24.825408</td>\n",
       "    </tr>\n",
       "    <tr>\n",
       "      <th>20992</th>\n",
       "      <td>2018-02-20 11:20:00</td>\n",
       "      <td>MB_SEG9</td>\n",
       "      <td>02:30:00</td>\n",
       "      <td>5.8750</td>\n",
       "      <td>7.265746</td>\n",
       "      <td>-1.390746</td>\n",
       "      <td>3.325756</td>\n",
       "      <td>2.549244</td>\n",
       "    </tr>\n",
       "    <tr>\n",
       "      <th>20993</th>\n",
       "      <td>2018-02-20 14:10:00</td>\n",
       "      <td>MB_SEG9</td>\n",
       "      <td>02:40:00</td>\n",
       "      <td>1.7500</td>\n",
       "      <td>13.832142</td>\n",
       "      <td>-12.082142</td>\n",
       "      <td>9.367721</td>\n",
       "      <td>-7.617721</td>\n",
       "    </tr>\n",
       "    <tr>\n",
       "      <th>20995</th>\n",
       "      <td>2018-02-20 17:50:00</td>\n",
       "      <td>MB_SEG9</td>\n",
       "      <td>02:10:00</td>\n",
       "      <td>1.6250</td>\n",
       "      <td>0.078330</td>\n",
       "      <td>1.546670</td>\n",
       "      <td>1.993897</td>\n",
       "      <td>-0.368897</td>\n",
       "    </tr>\n",
       "    <tr>\n",
       "      <th>20999</th>\n",
       "      <td>2018-02-25 18:00:00</td>\n",
       "      <td>MB_SEG9</td>\n",
       "      <td>00:20:00</td>\n",
       "      <td>0.3125</td>\n",
       "      <td>0.275681</td>\n",
       "      <td>0.036819</td>\n",
       "      <td>1.930523</td>\n",
       "      <td>-1.618023</td>\n",
       "    </tr>\n",
       "    <tr>\n",
       "      <th>21000</th>\n",
       "      <td>2018-02-25 19:10:00</td>\n",
       "      <td>MB_SEG9</td>\n",
       "      <td>00:20:00</td>\n",
       "      <td>0.6875</td>\n",
       "      <td>0.421042</td>\n",
       "      <td>0.266458</td>\n",
       "      <td>1.887542</td>\n",
       "      <td>-1.200042</td>\n",
       "    </tr>\n",
       "    <tr>\n",
       "      <th>21001</th>\n",
       "      <td>2018-02-25 21:40:00</td>\n",
       "      <td>MB_SEG9</td>\n",
       "      <td>00:20:00</td>\n",
       "      <td>0.3125</td>\n",
       "      <td>1.512467</td>\n",
       "      <td>-1.199967</td>\n",
       "      <td>1.666509</td>\n",
       "      <td>-1.354009</td>\n",
       "    </tr>\n",
       "    <tr>\n",
       "      <th>21002</th>\n",
       "      <td>2018-02-25 22:30:00</td>\n",
       "      <td>MB_SEG9</td>\n",
       "      <td>00:10:00</td>\n",
       "      <td>0.0625</td>\n",
       "      <td>0.484492</td>\n",
       "      <td>-0.421992</td>\n",
       "      <td>1.869770</td>\n",
       "      <td>-1.807270</td>\n",
       "    </tr>\n",
       "    <tr>\n",
       "      <th>21003</th>\n",
       "      <td>2018-02-25 22:50:00</td>\n",
       "      <td>MB_SEG9</td>\n",
       "      <td>00:40:00</td>\n",
       "      <td>1.1875</td>\n",
       "      <td>0.874432</td>\n",
       "      <td>0.313068</td>\n",
       "      <td>1.773829</td>\n",
       "      <td>-0.586329</td>\n",
       "    </tr>\n",
       "    <tr>\n",
       "      <th>21004</th>\n",
       "      <td>2018-02-25 23:40:00</td>\n",
       "      <td>MB_SEG9</td>\n",
       "      <td>00:40:00</td>\n",
       "      <td>0.3125</td>\n",
       "      <td>0.013096</td>\n",
       "      <td>0.299404</td>\n",
       "      <td>2.016109</td>\n",
       "      <td>-1.703609</td>\n",
       "    </tr>\n",
       "    <tr>\n",
       "      <th>21006</th>\n",
       "      <td>2018-02-26 01:40:00</td>\n",
       "      <td>MB_SEG9</td>\n",
       "      <td>00:50:00</td>\n",
       "      <td>0.5625</td>\n",
       "      <td>0.420485</td>\n",
       "      <td>0.142015</td>\n",
       "      <td>1.887701</td>\n",
       "      <td>-1.325201</td>\n",
       "    </tr>\n",
       "    <tr>\n",
       "      <th>21007</th>\n",
       "      <td>2018-02-26 02:40:00</td>\n",
       "      <td>MB_SEG9</td>\n",
       "      <td>01:00:00</td>\n",
       "      <td>0.4375</td>\n",
       "      <td>0.161500</td>\n",
       "      <td>0.276000</td>\n",
       "      <td>1.966487</td>\n",
       "      <td>-1.528987</td>\n",
       "    </tr>\n",
       "    <tr>\n",
       "      <th>21009</th>\n",
       "      <td>2018-02-26 07:00:00</td>\n",
       "      <td>MB_SEG9</td>\n",
       "      <td>00:10:00</td>\n",
       "      <td>0.0625</td>\n",
       "      <td>0.023392</td>\n",
       "      <td>0.039108</td>\n",
       "      <td>2.012561</td>\n",
       "      <td>-1.950061</td>\n",
       "    </tr>\n",
       "    <tr>\n",
       "      <th>21011</th>\n",
       "      <td>2018-02-26 15:30:00</td>\n",
       "      <td>MB_SEG9</td>\n",
       "      <td>00:20:00</td>\n",
       "      <td>0.1250</td>\n",
       "      <td>0.012722</td>\n",
       "      <td>0.112278</td>\n",
       "      <td>2.016238</td>\n",
       "      <td>-1.891238</td>\n",
       "    </tr>\n",
       "    <tr>\n",
       "      <th>21016</th>\n",
       "      <td>2018-03-10 19:10:00</td>\n",
       "      <td>MB_SEG9</td>\n",
       "      <td>00:40:00</td>\n",
       "      <td>3.3125</td>\n",
       "      <td>0.026665</td>\n",
       "      <td>3.285835</td>\n",
       "      <td>1.408804</td>\n",
       "      <td>1.903696</td>\n",
       "    </tr>\n",
       "    <tr>\n",
       "      <th>21017</th>\n",
       "      <td>2018-03-10 20:30:00</td>\n",
       "      <td>MB_SEG9</td>\n",
       "      <td>00:20:00</td>\n",
       "      <td>0.1250</td>\n",
       "      <td>0.017507</td>\n",
       "      <td>0.107493</td>\n",
       "      <td>1.410844</td>\n",
       "      <td>-1.285844</td>\n",
       "    </tr>\n",
       "  </tbody>\n",
       "</table>\n",
       "<p>8544 rows × 8 columns</p>\n",
       "</div>"
      ],
      "text/plain": [
       "                    start   station duration  Pluviometro      RADAR  \\\n",
       "1     2016-10-13 08:30:00  MB_ANHA1 00:10:00       0.2500   0.214636   \n",
       "2     2016-10-14 07:20:00  MB_ANHA1 00:10:00       0.2500   0.594438   \n",
       "3     2016-10-14 08:10:00  MB_ANHA1 00:50:00       3.2500   1.569860   \n",
       "4     2016-10-14 09:10:00  MB_ANHA1 01:40:00       5.0000   2.367961   \n",
       "6     2016-10-14 11:40:00  MB_ANHA1 00:10:00       0.2500   0.274750   \n",
       "7     2016-10-14 12:00:00  MB_ANHA1 00:10:00       0.2500   0.121554   \n",
       "8     2016-10-14 12:40:00  MB_ANHA1 00:20:00       1.2500   0.625225   \n",
       "9     2016-10-20 16:00:00  MB_ANHA1 00:50:00      11.0000   0.880495   \n",
       "11    2016-10-20 19:00:00  MB_ANHA1 01:50:00       8.2500   3.004278   \n",
       "12    2016-10-20 21:00:00  MB_ANHA1 00:10:00       0.2500   0.011158   \n",
       "14    2016-10-23 14:40:00  MB_ANHA1 01:30:00      21.0000   4.680203   \n",
       "16    2016-10-26 00:40:00  MB_ANHA1 00:10:00       1.0000   0.118274   \n",
       "17    2016-10-26 01:00:00  MB_ANHA1 00:30:00       2.0000   0.105403   \n",
       "19    2016-10-26 16:50:00  MB_ANHA1 03:10:00      28.2500   8.459200   \n",
       "21    2016-10-27 00:50:00  MB_ANHA1 00:10:00       0.2500   0.011080   \n",
       "22    2016-10-27 02:40:00  MB_ANHA1 00:40:00       1.2500   0.190539   \n",
       "25    2016-10-31 14:20:00  MB_ANHA1 00:30:00       7.0000   0.034825   \n",
       "28    2016-11-02 10:20:00  MB_ANHA1 01:10:00      10.7500   1.616263   \n",
       "29    2016-11-02 11:40:00  MB_ANHA1 00:20:00       0.5000   2.093310   \n",
       "30    2016-11-02 12:10:00  MB_ANHA1 01:40:00      10.5000   3.286372   \n",
       "31    2016-11-02 14:10:00  MB_ANHA1 00:10:00       0.2500   0.031870   \n",
       "32    2016-11-02 15:00:00  MB_ANHA1 00:10:00       0.2500   0.489188   \n",
       "33    2016-11-02 15:50:00  MB_ANHA1 00:20:00       1.2500   0.363403   \n",
       "34    2016-11-02 16:20:00  MB_ANHA1 00:20:00       0.5000   0.333862   \n",
       "35    2016-11-02 16:50:00  MB_ANHA1 00:10:00       0.2500   0.229033   \n",
       "36    2016-11-02 17:10:00  MB_ANHA1 00:10:00       0.2500   0.260965   \n",
       "37    2016-11-02 17:40:00  MB_ANHA1 00:40:00       1.0000   0.179419   \n",
       "40    2016-11-12 12:10:00  MB_ANHA1 01:00:00       1.7500   0.027227   \n",
       "42    2016-11-13 01:20:00  MB_ANHA1 00:30:00       0.7500   1.108355   \n",
       "45    2016-11-13 13:50:00  MB_ANHA1 00:20:00       0.5000   0.071295   \n",
       "...                   ...       ...      ...          ...        ...   \n",
       "20955 2018-02-01 00:20:00   MB_SEG9 00:10:00       0.1250   0.011566   \n",
       "20963 2018-02-12 15:20:00   MB_SEG9 00:40:00       1.2500   0.039762   \n",
       "20964 2018-02-12 18:30:00   MB_SEG9 00:50:00       3.7500   0.047004   \n",
       "20965 2018-02-12 21:10:00   MB_SEG9 00:10:00       0.0625   0.020111   \n",
       "20966 2018-02-12 21:30:00   MB_SEG9 00:10:00       0.0625   0.047157   \n",
       "20967 2018-02-12 23:20:00   MB_SEG9 00:10:00       0.0625   0.013501   \n",
       "20969 2018-02-13 18:40:00   MB_SEG9 01:40:00       8.6875   0.915875   \n",
       "20972 2018-02-14 00:40:00   MB_SEG9 00:40:00       0.3125   0.031972   \n",
       "20973 2018-02-18 01:30:00   MB_SEG9 01:30:00       0.8750   0.337558   \n",
       "20976 2018-02-18 20:00:00   MB_SEG9 00:50:00       0.6875   0.010613   \n",
       "20978 2018-02-18 21:30:00   MB_SEG9 01:10:00       0.5625   0.748687   \n",
       "20979 2018-02-19 00:30:00   MB_SEG9 00:10:00       0.0625   0.074832   \n",
       "20988 2018-02-19 20:00:00   MB_SEG9 00:20:00       0.5000   0.015757   \n",
       "20990 2018-02-20 07:40:00   MB_SEG9 00:10:00       0.0625   7.090017   \n",
       "20991 2018-02-20 08:00:00   MB_SEG9 02:50:00       8.1250  19.262949   \n",
       "20992 2018-02-20 11:20:00   MB_SEG9 02:30:00       5.8750   7.265746   \n",
       "20993 2018-02-20 14:10:00   MB_SEG9 02:40:00       1.7500  13.832142   \n",
       "20995 2018-02-20 17:50:00   MB_SEG9 02:10:00       1.6250   0.078330   \n",
       "20999 2018-02-25 18:00:00   MB_SEG9 00:20:00       0.3125   0.275681   \n",
       "21000 2018-02-25 19:10:00   MB_SEG9 00:20:00       0.6875   0.421042   \n",
       "21001 2018-02-25 21:40:00   MB_SEG9 00:20:00       0.3125   1.512467   \n",
       "21002 2018-02-25 22:30:00   MB_SEG9 00:10:00       0.0625   0.484492   \n",
       "21003 2018-02-25 22:50:00   MB_SEG9 00:40:00       1.1875   0.874432   \n",
       "21004 2018-02-25 23:40:00   MB_SEG9 00:40:00       0.3125   0.013096   \n",
       "21006 2018-02-26 01:40:00   MB_SEG9 00:50:00       0.5625   0.420485   \n",
       "21007 2018-02-26 02:40:00   MB_SEG9 01:00:00       0.4375   0.161500   \n",
       "21009 2018-02-26 07:00:00   MB_SEG9 00:10:00       0.0625   0.023392   \n",
       "21011 2018-02-26 15:30:00   MB_SEG9 00:20:00       0.1250   0.012722   \n",
       "21016 2018-03-10 19:10:00   MB_SEG9 00:40:00       3.3125   0.026665   \n",
       "21017 2018-03-10 20:30:00   MB_SEG9 00:20:00       0.1250   0.017507   \n",
       "\n",
       "           ERROR   CDF_CORR  CDF_ERROR  \n",
       "1       0.035364   0.964391  -0.714391  \n",
       "2      -0.344438   0.960244  -0.710244  \n",
       "3       1.680140   1.109772   2.140228  \n",
       "4       2.632039   1.403928   3.596072  \n",
       "6      -0.024750   0.961453  -0.711453  \n",
       "7       0.128446   0.970610  -0.720610  \n",
       "8       0.624775   0.961421   0.288579  \n",
       "9      10.119505   0.980026  10.019974  \n",
       "11      5.245722   1.745019   6.504981  \n",
       "12      0.238842   0.980595  -0.730595  \n",
       "14     16.319797   3.046420  17.953580  \n",
       "16      0.881726   0.970866   0.029134  \n",
       "17      1.894597   0.971895   1.028105  \n",
       "19     19.790800   7.628728  20.621272  \n",
       "21      0.238920   0.980603  -0.730603  \n",
       "22      1.059461   0.965807   0.284193  \n",
       "25      6.965175   0.978218   6.021782  \n",
       "28      9.133737   1.700235   9.049765  \n",
       "29     -1.593310   1.805346  -1.305346  \n",
       "30      7.213628   2.177835   8.322165  \n",
       "31      0.218130   1.538324  -1.288324  \n",
       "32     -0.239188   1.555167  -1.305167  \n",
       "33      0.886597   1.548104  -0.298104  \n",
       "34      0.166138   1.546712  -1.046712  \n",
       "35      0.020967   1.542596  -1.292596  \n",
       "36     -0.010965   1.543714  -1.293714  \n",
       "37      0.820581   1.541094  -0.541094  \n",
       "40      1.722773   1.538278   0.211722  \n",
       "42     -0.358355   1.616730  -0.866730  \n",
       "45      0.428705   1.538816  -1.038816  \n",
       "...          ...        ...        ...  \n",
       "20955   0.113434   2.016637  -1.891637  \n",
       "20963   1.210238   2.006953  -0.756953  \n",
       "20964   3.702996   2.004485   1.745515  \n",
       "20965   0.042389   2.013690  -1.951190  \n",
       "20966   0.015343   2.004433  -1.941933  \n",
       "20967   0.048999   2.015969  -1.953469  \n",
       "20969   7.771625   1.764981   6.922519  \n",
       "20972   0.280528   2.009617  -1.697117  \n",
       "20973   0.537442   1.911842  -1.036842  \n",
       "20976   0.676887   2.016967  -1.329467  \n",
       "20978  -0.186187   1.802264  -1.239764  \n",
       "20979  -0.012332   1.995072  -1.932572  \n",
       "20988   0.484243   2.015191  -1.515191  \n",
       "20990  -7.027517   3.214050  -3.151550  \n",
       "20991 -11.137949  32.950408 -24.825408  \n",
       "20992  -1.390746   3.325756   2.549244  \n",
       "20993 -12.082142   9.367721  -7.617721  \n",
       "20995   1.546670   1.993897  -0.368897  \n",
       "20999   0.036819   1.930523  -1.618023  \n",
       "21000   0.266458   1.887542  -1.200042  \n",
       "21001  -1.199967   1.666509  -1.354009  \n",
       "21002  -0.421992   1.869770  -1.807270  \n",
       "21003   0.313068   1.773829  -0.586329  \n",
       "21004   0.299404   2.016109  -1.703609  \n",
       "21006   0.142015   1.887701  -1.325201  \n",
       "21007   0.276000   1.966487  -1.528987  \n",
       "21009   0.039108   2.012561  -1.950061  \n",
       "21011   0.112278   2.016238  -1.891238  \n",
       "21016   3.285835   1.408804   1.903696  \n",
       "21017   0.107493   1.410844  -1.285844  \n",
       "\n",
       "[8544 rows x 8 columns]"
      ]
     },
     "execution_count": 34,
     "metadata": {},
     "output_type": "execute_result"
    }
   ],
   "source": [
    "df"
   ]
  }
 ],
 "metadata": {
  "jupytext": {
   "formats": "ipynb,py:light"
  },
  "kernelspec": {
   "display_name": "Python [conda env:ic]",
   "language": "python",
   "name": "conda-env-ic-py"
  },
  "language_info": {
   "codemirror_mode": {
    "name": "ipython",
    "version": 3
   },
   "file_extension": ".py",
   "mimetype": "text/x-python",
   "name": "python",
   "nbconvert_exporter": "python",
   "pygments_lexer": "ipython3",
   "version": "3.6.5"
  }
 },
 "nbformat": 4,
 "nbformat_minor": 2
}
