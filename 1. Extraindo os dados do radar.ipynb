{
 "cells": [
  {
   "cell_type": "code",
   "execution_count": 1,
   "metadata": {
    "colab": {
     "autoexec": {
      "startup": false,
      "wait_interval": 0
     }
    },
    "colab_type": "code",
    "id": "-JzUu8rmBrV1"
   },
   "outputs": [],
   "source": [
    "import numpy as np\n",
    "import pandas as pd\n",
    "import matplotlib.pyplot as plt\n",
    "import zipfile\n",
    "import tarfile\n",
    "import os\n",
    "import csv\n",
    "\n",
    "import geopandas as gpd\n",
    "from zipfile import ZipFile"
   ]
  },
  {
   "cell_type": "code",
   "execution_count": 2,
   "metadata": {
    "colab": {
     "autoexec": {
      "startup": false,
      "wait_interval": 0
     }
    },
    "colab_type": "code",
    "id": "aSrXiFPzBrWA"
   },
   "outputs": [],
   "source": [
    "shape_file = \"DATA/Estações_localizacao/Localizacao_Remotas-FINAL.shp\"\n",
    "shape = gpd.read_file(filename=shape_file)"
   ]
  },
  {
   "cell_type": "code",
   "execution_count": 3,
   "metadata": {
    "colab": {
     "autoexec": {
      "startup": false,
      "wait_interval": 0
     },
     "base_uri": "https://localhost:8080/",
     "height": 34
    },
    "colab_type": "code",
    "executionInfo": {
     "elapsed": 23,
     "status": "ok",
     "timestamp": 1525733256330,
     "user": {
      "displayName": "Reinaldo Ossuna",
      "photoUrl": "//lh6.googleusercontent.com/--MvHA_gg5AQ/AAAAAAAAAAI/AAAAAAAAckk/y3HdCcNpsHs/s50-c-k-no/photo.jpg",
      "userId": "100120894872685494029"
     },
     "user_tz": 240
    },
    "id": "0w4ZwmK6BrWG",
    "outputId": "f951f709-f39d-4356-9e2f-94865e8b73ae"
   },
   "outputs": [
    {
     "data": {
      "text/plain": [
       "{'init': 'epsg:4326'}"
      ]
     },
     "execution_count": 3,
     "metadata": {},
     "output_type": "execute_result"
    }
   ],
   "source": [
    "shape.crs"
   ]
  },
  {
   "cell_type": "markdown",
   "metadata": {
    "colab_type": "text",
    "id": "9FyYFuhYBrWF"
   },
   "source": [
    "## WGS84\n",
    "- Sistema de coordenada Projetado\n",
    "- Sistema de coordenada Geodésico"
   ]
  },
  {
   "cell_type": "code",
   "execution_count": null,
   "metadata": {
    "colab": {
     "autoexec": {
      "startup": false,
      "wait_interval": 0
     }
    },
    "colab_type": "code",
    "id": "zmQFSNKOBrWR"
   },
   "outputs": [],
   "source": [
    "# Informações disponivel no inicio dos arquivos do radar.\n",
    "cellsize = 0.005825080633\n",
    "ncols = 835\n",
    "nrows = 779\n",
    "lat_min = -22.542179540896\n",
    "lat_max = lat_min + cellsize * nrows\n",
    "lon_min = -56.903502116470\n",
    "lon_max = lon_min + cellsize * ncols"
   ]
  },
  {
   "cell_type": "code",
   "execution_count": null,
   "metadata": {
    "colab": {
     "autoexec": {
      "startup": false,
      "wait_interval": 0
     }
    },
    "colab_type": "code",
    "id": "KpNdpWSTBrV6"
   },
   "outputs": [],
   "source": [
    "def find_nearest_index(array, value):\n",
    "    idx = (np.abs(array - value)).argmin()\n",
    "    return idx"
   ]
  },
  {
   "cell_type": "code",
   "execution_count": null,
   "metadata": {
    "colab": {
     "autoexec": {
      "startup": false,
      "wait_interval": 0
     }
    },
    "colab_type": "code",
    "id": "nL816NtZBrWT",
    "lines_to_next_cell": 2
   },
   "outputs": [],
   "source": [
    "# Obtendo o index correspondente com cada coordenada.\n",
    "# \n",
    "lat = np.linspace(lat_max, lat_min, nrows, endpoint=True)\n",
    "lat = np.around(lat, decimals=4)\n",
    "\n",
    "lon = np.linspace(lon_min, lon_max, ncols, endpoint=True)\n",
    "lon = np.around(lon, decimals=4)\n",
    "\n",
    "\n",
    "shape['longitude'] = shape['geometry'].apply(lambda x: x.x)\n",
    "shape['latitude'] = shape['geometry'].apply(lambda x: x.y)\n",
    "\n",
    "shape['index_longitude'] = shape['longitude'].apply(lambda x: find_nearest_index(lon, x))\n",
    "shape['index_latitude'] = shape['latitude'].apply(lambda x: find_nearest_index(lat, x))"
   ]
  },
  {
   "cell_type": "code",
   "execution_count": null,
   "metadata": {
    "colab": {
     "autoexec": {
      "startup": false,
      "wait_interval": 0
     }
    },
    "colab_type": "code",
    "id": "K4UnOpwSBrWW",
    "outputId": "1b01f3a5-686d-4a3d-c0c6-995f6180aedb"
   },
   "outputs": [],
   "source": [
    "shape.head()"
   ]
  },
  {
   "cell_type": "code",
   "execution_count": null,
   "metadata": {
    "colab": {
     "autoexec": {
      "startup": false,
      "wait_interval": 0
     }
    },
    "colab_type": "code",
    "id": "4VhsieWvBrWk",
    "outputId": "544711f5-263d-472b-d2d1-0334379c4930"
   },
   "outputs": [],
   "source": [
    "## Trocando o espaço nos nomes das estações por underline (_)\n",
    "## MB SEG2 >> MB_SEG2\n",
    "\n",
    "points = shape.Name.tolist()\n",
    "points = list(map(lambda x: x.replace(\" \", \"_\"), points))\n",
    "shape.Name = points\n",
    "shape = shape.set_index('Name')\n",
    "shape.head()"
   ]
  },
  {
   "cell_type": "code",
   "execution_count": null,
   "metadata": {},
   "outputs": [],
   "source": [
    "shape[shape.index == \"MB_PRO1\"]"
   ]
  },
  {
   "cell_type": "code",
   "execution_count": null,
   "metadata": {},
   "outputs": [],
   "source": [
    "# Pastas contendo os arquivos zips\n",
    "path = 'DATA/Dados_radar_new/'\n",
    "folders = [f.path for f in os.scandir(path) if f.is_dir()]\n",
    "folders.sort()"
   ]
  },
  {
   "cell_type": "code",
   "execution_count": null,
   "metadata": {
    "colab": {
     "autoexec": {
      "startup": false,
      "wait_interval": 0
     }
    },
    "colab_type": "code",
    "id": "cmeg8As1BrWr",
    "lines_to_next_cell": 2,
    "outputId": "89d97cf5-e36e-4109-ba87-5a8f547ee726"
   },
   "outputs": [],
   "source": [
    "## \n",
    "\n",
    "from tqdm import tqdm, tqdm_notebook\n",
    "import logging\n",
    "\n",
    "\n",
    "logging.basicConfig(filename='DATA/extractFiles.log',level=logging.DEBUG)\n",
    "\n",
    "\n",
    "with open('DATA/data.csv','w') as f_out:\n",
    "    \n",
    "    logging.info(\"Starting!\\nCreating file %s\",f_out)\n",
    "    out_colnames = ['date']\n",
    "    out_colnames += points\n",
    "    \n",
    "    writer = csv.DictWriter(f_out, fieldnames=out_colnames)\n",
    "    writer.writeheader()\n",
    "    path = 'DATA/Dados_radar_new/'\n",
    "    folders = [f.path for f in os.scandir(path) if f.is_dir()]\n",
    "\n",
    "    \n",
    "\n",
    "    for folder in tqdm_notebook(folders,desc=\"Folders\"):\n",
    "        logging.info(\"Folder: %s\", folder)\n",
    "\n",
    "        zipfiles = [f.path for f in os.scandir(folder) if not f.is_dir()]\n",
    "        \n",
    "        \n",
    "        for zipfile in tqdm_notebook(zipfiles, desc=\"ZipFiles\", leave= False):\n",
    "            logging.info(\"Zipfile: %s\", zipfile)\n",
    "            \n",
    "            with ZipFile(zipfile,'r') as myzip:\n",
    "                for file in tqdm_notebook(myzip.namelist(),desc=\"Files\",leave= False):\n",
    "                    logging.info(\"File: %s\",file)\n",
    "                    with myzip.open(file,'r') as data:      \n",
    "                        new_point = {}\n",
    "                        year   = file[:4]\n",
    "                        month  = file[4:6]\n",
    "                        day    = file[6:8]\n",
    "                        hour   = file[8:10]\n",
    "                        minute = file[10:12]\n",
    "                        \n",
    "                        #Dateformat %Y/%m/%d %H:%M\n",
    "                        new_point['date'] = \"{}/{}/{} {}:{}\".format(year,month,day,hour,minute)\n",
    "                        try:\n",
    "                            array = np.loadtxt(data,skiprows=6)\n",
    "\n",
    "\n",
    "                            if array.shape == (779,835):\n",
    "                                array = np.power([10],array / 10)\n",
    "\n",
    "                                for point in points:\n",
    "\n",
    "                                    lat = shape.loc[point]['index_latitude']\n",
    "                                    long = shape.loc[point]['index_longitude']\n",
    "                                    \n",
    "                                    ## Irei extrai um quadrado de 3x3 pixeis em volta\n",
    "                                    ## do pixel. Isso será ultil para fazer uma média dos\n",
    "                                    ## pixeis envolta do pixel desejado.\n",
    "                                    \n",
    "                                    lat_min = lat - 2\n",
    "                                    lat_max = lat + 3 \n",
    "                                    long_min = long - 2\n",
    "                                    long_max = long + 3\n",
    "                                    points_array = array[lat_min:lat_max,long_min:long_max]\n",
    "                                    points_array = points_array.reshape(25,)\n",
    "                                    points_string = np.array2string(points_array)\n",
    "                                    \n",
    "                                    for symbol in ['[',']']:\n",
    "                                        points_string = points_string.replace(symbol,'')\n",
    "                                    \n",
    "\n",
    "                                    new_point[point] = points_string\n",
    "                            else:\n",
    "                                #nome dos arquivos para uma futura investigação\n",
    "                                logging.warn(\"File wrong size: %s\")\n",
    "\n",
    "                            writer.writerow(new_point)\n",
    "                        except ValueError:\n",
    "                            logging.warn(\"File with strange data\")\n",
    "                        except:\n",
    "                            logging.warn(\"SOME PROBLEM\")\n",
    "                        "
   ]
  },
  {
   "cell_type": "code",
   "execution_count": null,
   "metadata": {
    "colab": {
     "autoexec": {
      "startup": false,
      "wait_interval": 0
     }
    },
    "colab_type": "code",
    "id": "YwI06663BrWv"
   },
   "outputs": [],
   "source": [
    "df = pd.read_csv(\"DATA/5x5_RADAR.csv\",\n",
    "            parse_dates=['DATE'],\n",
    "            index_col=[\"DATE\"])"
   ]
  },
  {
   "cell_type": "code",
   "execution_count": null,
   "metadata": {},
   "outputs": [],
   "source": [
    "df.head()"
   ]
  },
  {
   "cell_type": "code",
   "execution_count": null,
   "metadata": {},
   "outputs": [],
   "source": []
  }
 ],
 "metadata": {
  "jupytext": {
   "formats": "ipynb,py:light"
  },
  "kernelspec": {
   "display_name": "Python [conda env:ic]",
   "language": "python",
   "name": "conda-env-ic-py"
  },
  "language_info": {
   "codemirror_mode": {
    "name": "ipython",
    "version": 3
   },
   "file_extension": ".py",
   "mimetype": "text/x-python",
   "name": "python",
   "nbconvert_exporter": "python",
   "pygments_lexer": "ipython3",
   "version": "3.6.5"
  }
 },
 "nbformat": 4,
 "nbformat_minor": 2
}
